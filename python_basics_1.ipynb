{
 "cells": [
  {
   "cell_type": "markdown",
   "metadata": {},
   "source": [
    "## propiedades, variables"
   ]
  },
  {
   "cell_type": "code",
   "execution_count": 1,
   "metadata": {},
   "outputs": [
    {
     "name": "stdout",
     "output_type": "stream",
     "text": [
      "19.5 3 58.5\n",
      "3.14     3.14         3.1416\n"
     ]
    }
   ],
   "source": [
    "precio_kilo = 19.5   # tipo decimal\n",
    "num_kilos = 3        # tipo entero\n",
    "importe = precio_kilo * num_kilos  # operador de multiplicación\n",
    "\n",
    "print(precio_kilo, num_kilos, importe)\n",
    "\n",
    "# formateo para imprimir\n",
    "pi = 3.14159\n",
    "print('{:.2f}'.format(pi), '{:8.2f}'.format(pi),'{:14.4f}'.format(pi))\n"
   ]
  },
  {
   "cell_type": "code",
   "execution_count": 2,
   "metadata": {},
   "outputs": [
    {
     "name": "stdout",
     "output_type": "stream",
     "text": [
      "33.0\n"
     ]
    }
   ],
   "source": [
    "edad_juan = 50\n",
    "edad_iris = 16\n",
    "edad_media = edad_juan + edad_iris / 2  # semánticamente incorrecto\n",
    "edad_media = (edad_juan + edad_iris) / 2  # paréntesis tienen prioridad\n",
    "\n",
    "print(edad_media)  # la división fuerza el tipo decimal"
   ]
  },
  {
   "cell_type": "markdown",
   "metadata": {},
   "source": [
    "#### Ejercicio: hallar la nota media que han sacado 3 alumnos (cada nota estará contenida en una variable, propiedad)"
   ]
  },
  {
   "cell_type": "code",
   "execution_count": 3,
   "metadata": {},
   "outputs": [
    {
     "name": "stdout",
     "output_type": "stream",
     "text": [
      "312.0\n"
     ]
    }
   ],
   "source": [
    "sin_sentido = precio_kilo * edad_iris\n",
    "print(sin_sentido)  # los intérpretes no conocen la semántica"
   ]
  },
  {
   "cell_type": "code",
   "execution_count": 4,
   "metadata": {},
   "outputs": [
    {
     "name": "stdout",
     "output_type": "stream",
     "text": [
      "Cristobal Colón Cristobal Colón\n"
     ]
    }
   ],
   "source": [
    "nombre = 'Cristobal'  # tipo String o Cadena de caracteres\n",
    "apellido = \"Colón\"  # las comillas dobles tambiñen sirven\n",
    "nombre_completo = nombre + \" \" + apellido  # operación de concatenación\n",
    "                                           # sobrecarga de operadores\n",
    "print(nombre, apellido, nombre_completo)"
   ]
  },
  {
   "cell_type": "markdown",
   "metadata": {},
   "source": [
    "#### Ejercicio: imprimir \"Pinta, Niña, Santamaría\", a partir de 3 variables (propiedades)"
   ]
  },
  {
   "cell_type": "markdown",
   "metadata": {},
   "source": [
    "anuncio = ' rebajas '  \n",
    "anuncio_largo = anuncio * 8 # operador de repetición\n",
    "print(anuncio_largo)"
   ]
  },
  {
   "cell_type": "markdown",
   "metadata": {},
   "source": [
    "##### Ejercicio: Generar una cadena de caracteres que contenga 100 veces la letra B "
   ]
  },
  {
   "cell_type": "code",
   "execution_count": 6,
   "metadata": {},
   "outputs": [
    {
     "name": "stdout",
     "output_type": "stream",
     "text": [
      "dieciséis\n"
     ]
    }
   ],
   "source": [
    "edad_iris = 'dieciséis'  # el tipo pertenece al objeto, no a la propiedad\n",
    "                         # no hay tipado fuerte en la asignación\n",
    "print(edad_iris)"
   ]
  },
  {
   "cell_type": "code",
   "execution_count": 7,
   "metadata": {},
   "outputs": [
    {
     "ename": "TypeError",
     "evalue": "unsupported operand type(s) for +: 'int' and 'str'",
     "output_type": "error",
     "traceback": [
      "\u001b[0;31m---------------------------------------------------------------------------\u001b[0m",
      "\u001b[0;31mTypeError\u001b[0m                                 Traceback (most recent call last)",
      "\u001b[0;32m<ipython-input-7-fb5232c716d2>\u001b[0m in \u001b[0;36m<module>\u001b[0;34m\u001b[0m\n\u001b[0;32m----> 1\u001b[0;31m \u001b[0medad_total\u001b[0m \u001b[0;34m=\u001b[0m \u001b[0medad_juan\u001b[0m \u001b[0;34m+\u001b[0m \u001b[0medad_iris\u001b[0m \u001b[0;31m# sí hay tipado en las operaciones\u001b[0m\u001b[0;34m\u001b[0m\u001b[0;34m\u001b[0m\u001b[0m\n\u001b[0m",
      "\u001b[0;31mTypeError\u001b[0m: unsupported operand type(s) for +: 'int' and 'str'"
     ]
    }
   ],
   "source": [
    "edad_total = edad_juan + edad_iris # sí hay tipado en las operaciones"
   ]
  },
  {
   "cell_type": "code",
   "execution_count": 3,
   "metadata": {},
   "outputs": [
    {
     "name": "stdout",
     "output_type": "stream",
     "text": [
      "18 17\n"
     ]
    }
   ],
   "source": [
    "edad_ana = 17\n",
    "edad_carla = edad_ana\n",
    "edad_ana = edad_ana + 1 # cumpleaños\n",
    "print(edad_ana, edad_carla)"
   ]
  },
  {
   "cell_type": "code",
   "execution_count": 4,
   "metadata": {},
   "outputs": [
    {
     "name": "stdout",
     "output_type": "stream",
     "text": [
      "True\n",
      "True\n"
     ]
    }
   ],
   "source": [
    "edad = 30\n",
    "mayor_edad = edad >= 18   # condiciones\n",
    "print(mayor_edad)\n",
    "\n",
    "carnet_conducir = True    # valores booleanos\n",
    "vehiculo_propio = False\n",
    "\n",
    "asignar_vehiculo = mayor_edad and carnet_conducir and not vehiculo_propio\n",
    "print (asignar_vehiculo)"
   ]
  },
  {
   "cell_type": "markdown",
   "metadata": {},
   "source": [
    "####  Ejercicio: crear varias propiedades booleanas y combinarlas"
   ]
  },
  {
   "cell_type": "markdown",
   "metadata": {},
   "source": [
    "## sentencia de control condicional"
   ]
  },
  {
   "cell_type": "code",
   "execution_count": 5,
   "metadata": {},
   "outputs": [
    {
     "name": "stdout",
     "output_type": "stream",
     "text": [
      "reponedor False\n"
     ]
    }
   ],
   "source": [
    "# normalmente 4 espacios de indentación\n",
    "if vehiculo_propio and carnet_conducir:  # si condicion\n",
    "    puesto_trabajo = 'repartidor'        # se cumple la condición\n",
    "    bonificacion = True\n",
    "else:                                    # no se cumple la condición\n",
    "    puesto_trabajo = 'reponedor'\n",
    "    bonificacion = False\n",
    "print(puesto_trabajo, bonificacion)"
   ]
  },
  {
   "cell_type": "markdown",
   "metadata": {},
   "source": [
    "#### Ejercicio: establece tus gustos en 3 géneros de cine, usando 3 variables: ej. ciencia_ficcion = True. Establece el género de 2 películas y escribe alguna sentencia condicional que te recomiende ir o no ir a ver la película"
   ]
  },
  {
   "cell_type": "code",
   "execution_count": 9,
   "metadata": {},
   "outputs": [
    {
     "name": "stdout",
     "output_type": "stream",
     "text": [
      "raider\n"
     ]
    }
   ],
   "source": [
    "vehiculo = 'moto'\n",
    "if vehiculo == 'moto' and puesto_trabajo == 'reponedor':\n",
    "    print('raider')\n",
    "else:\n",
    "    print('conductor')"
   ]
  },
  {
   "cell_type": "code",
   "execution_count": 14,
   "metadata": {},
   "outputs": [
    {
     "name": "stdout",
     "output_type": "stream",
     "text": [
      "jubilación\n",
      "en activo\n"
     ]
    }
   ],
   "source": [
    "edad = 65\n",
    "if edad == 65: # distinguir entre asignación y comparación\n",
    "    estado = 'jubilación'\n",
    "print(estado)\n",
    "\n",
    "edad = 60\n",
    "# condiciones compuestas\n",
    "if (edad>55 and puesto_trabajo == 'repartidor') or (edad>=65):\n",
    "    estado = 'jubilación'\n",
    "else:\n",
    "    estado = 'en activo'\n",
    "print(estado)"
   ]
  },
  {
   "cell_type": "code",
   "execution_count": 12,
   "metadata": {},
   "outputs": [
    {
     "name": "stdout",
     "output_type": "stream",
     "text": [
      "en activo\n"
     ]
    }
   ],
   "source": [
    "# notación alternativa de la instrucción condicional\n",
    "estado = 'jubilación' if edad == 65 else 'en activo'\n",
    "print(estado)"
   ]
  },
  {
   "cell_type": "code",
   "execution_count": 13,
   "metadata": {},
   "outputs": [
    {
     "name": "stdout",
     "output_type": "stream",
     "text": [
      "adulto\n"
     ]
    }
   ],
   "source": [
    "edad = 50\n",
    "if edad <= 3:\n",
    "    madurez = 'bebé'\n",
    "elif edad < 12:\n",
    "    madurez = 'niñez'\n",
    "elif edad < 16:\n",
    "    madurez = 'adolescencia'\n",
    "elif edad < 22:\n",
    "    madurez = 'juventud'\n",
    "elif edad < 60:\n",
    "    madurez = 'adulto'\n",
    "else:\n",
    "    madurez = 'vejez'\n",
    "print(madurez)"
   ]
  },
  {
   "cell_type": "markdown",
   "metadata": {},
   "source": [
    "#### Ejercicio: implementar el ejemplo anterior sin hacer uso de elif"
   ]
  },
  {
   "cell_type": "markdown",
   "metadata": {},
   "source": [
    "## sentencia de control repetitivo: for"
   ]
  },
  {
   "cell_type": "code",
   "execution_count": 15,
   "metadata": {},
   "outputs": [
    {
     "name": "stdout",
     "output_type": "stream",
     "text": [
      "0 1 2 3 4 5 6 7 8 9 "
     ]
    }
   ],
   "source": [
    "for i in range(10):   # la propiedad i toma los valores del rango\n",
    "    print(i, end= ' ')"
   ]
  },
  {
   "cell_type": "code",
   "execution_count": 16,
   "metadata": {},
   "outputs": [
    {
     "name": "stdout",
     "output_type": "stream",
     "text": [
      "4 6 8 "
     ]
    }
   ],
   "source": [
    "for i in range(4,10,2):   # inicio, fin, salto\n",
    "    print(i, end= ' ')"
   ]
  },
  {
   "cell_type": "code",
   "execution_count": 17,
   "metadata": {},
   "outputs": [
    {
     "name": "stdout",
     "output_type": "stream",
     "text": [
      "1 6 11 16 21 26 31 36 41 46 51 56 61 66 "
     ]
    }
   ],
   "source": [
    "for i in range(1,70,5):   # inicio, fin, salto\n",
    "    print(i, end= ' ')"
   ]
  },
  {
   "cell_type": "code",
   "execution_count": null,
   "metadata": {},
   "outputs": [],
   "source": [
    "for i in range(20,10,-2):   # inicio, fin, salto\n",
    "    print(i, end= ' ')"
   ]
  },
  {
   "cell_type": "markdown",
   "metadata": {},
   "source": [
    "#### Ejercicios: a) imprimir los múltiplos de 3, b) imprimir del 19 al 0 en orden descendente, c) imprimir los números pares entre el 897 y el 931"
   ]
  },
  {
   "cell_type": "code",
   "execution_count": 20,
   "metadata": {},
   "outputs": [
    {
     "name": "stdout",
     "output_type": "stream",
     "text": [
      "15\n"
     ]
    }
   ],
   "source": [
    "# suma los 5 primeros números enteros\n",
    "acumulador = 0\n",
    "for i in range(6):\n",
    "    acumulador = acumulador + i    # es obligatorio inicializar las propiedades\n",
    "print(acumulador)"
   ]
  },
  {
   "cell_type": "code",
   "execution_count": 21,
   "metadata": {},
   "outputs": [
    {
     "name": "stdout",
     "output_type": "stream",
     "text": [
      "120\n"
     ]
    }
   ],
   "source": [
    "# factorial de 5\n",
    "acumulador = 1\n",
    "for i in range(1,6):\n",
    "    acumulador = acumulador * i\n",
    "print(acumulador)"
   ]
  },
  {
   "cell_type": "markdown",
   "metadata": {},
   "source": [
    "#### Ejercicio: a) Hallar el valor de la suma de los 30 primeros números pares, b) Hacer lo mismo, de otra forma, sabiendo que valor % 2 devuelve el resto de la división entre valor y 2"
   ]
  },
  {
   "cell_type": "code",
   "execution_count": 22,
   "metadata": {},
   "outputs": [
    {
     "name": "stdout",
     "output_type": "stream",
     "text": [
      "1 bebé\n",
      "5 niñez\n",
      "9 niñez\n",
      "13 adolescencia\n",
      "17 juventud\n",
      "21 juventud\n",
      "25 adulto\n",
      "29 adulto\n",
      "33 adulto\n",
      "37 adulto\n",
      "41 adulto\n",
      "45 adulto\n",
      "49 adulto\n",
      "53 adulto\n",
      "57 adulto\n",
      "61 vejez\n",
      "65 vejez\n",
      "69 vejez\n"
     ]
    }
   ],
   "source": [
    "for edad in range(1,70,4):\n",
    "    if edad <= 3:\n",
    "        madurez = 'bebé'\n",
    "    elif edad < 12:\n",
    "        madurez = 'niñez'\n",
    "    elif edad < 16:\n",
    "        madurez = 'adolescencia'\n",
    "    elif edad < 22:\n",
    "        madurez = 'juventud'\n",
    "    elif edad < 60:\n",
    "        madurez = 'adulto'\n",
    "    else:\n",
    "        madurez = 'vejez'\n",
    "    \n",
    "    print(edad, madurez)"
   ]
  },
  {
   "cell_type": "markdown",
   "metadata": {},
   "source": [
    "### sentencia de control repetitivo: while"
   ]
  },
  {
   "cell_type": "code",
   "execution_count": 24,
   "metadata": {},
   "outputs": [
    {
     "name": "stdout",
     "output_type": "stream",
     "text": [
      "8 9 10 11 12 13 14 15 16 17 18 19 20 \n",
      "21\n",
      "\n",
      "2 3 4 5 6 7 8 9 10 Es primo\n"
     ]
    }
   ],
   "source": [
    "# usaremos el while mucho menos que el for\n",
    "\n",
    "i = 8\n",
    "while i <= 20:\n",
    "    print(i, end=' ')\n",
    "    i += 1\n",
    "print()\n",
    "\n",
    "# primer número cuyo cuadrado es mayor que 400\n",
    "i = 1; encontrado = False\n",
    "while i <= 40 and not encontrado:\n",
    "    if i ** 2 > 400:\n",
    "        print(i)\n",
    "        encontrado = True\n",
    "    i += 1\n",
    "print()\n",
    "\n",
    "# saber si un número es primo (muy ineficiente, pero menos que usando for)\n",
    "numero = 11\n",
    "# numero = 49   # 7 * 7\n",
    "salir = False\n",
    "i = 1\n",
    "while not salir and i < numero-1:\n",
    "    i += 1\n",
    "    print(i, end = ' ')\n",
    "    salir = numero % i == 0 # no es primo\n",
    "\n",
    "if salir:\n",
    "    print('No es primo')\n",
    "else:\n",
    "    print('Es primo')\n"
   ]
  },
  {
   "cell_type": "markdown",
   "metadata": {},
   "source": [
    "## métodos (subrutinas, funciones, procedimientos)"
   ]
  },
  {
   "cell_type": "code",
   "execution_count": 5,
   "metadata": {},
   "outputs": [
    {
     "name": "stdout",
     "output_type": "stream",
     "text": [
      "120 40320\n",
      "3628800\n"
     ]
    }
   ],
   "source": [
    "# evitan repetir código\n",
    "\n",
    "def factorial(valor):    # identificador del método y parámetros\n",
    "    acumulador = 1\n",
    "    for i in range(1,valor+1):\n",
    "        acumulador = acumulador * i\n",
    "    return acumulador    # valor de retorno\n",
    "\n",
    "f5 = factorial(5)  # llamada al método; se proporciona el argumento\n",
    "f10 = factorial(8)\n",
    "print(f5,f10)\n",
    "print(factorial(10))"
   ]
  },
  {
   "cell_type": "code",
   "execution_count": 6,
   "metadata": {},
   "outputs": [],
   "source": [
    "def madurez(edad):\n",
    "    if edad <= 3:\n",
    "        madurez = 'bebé'\n",
    "    elif edad < 12:\n",
    "        madurez = 'niñez'\n",
    "    elif edad < 16:\n",
    "        madurez = 'adolescencia'\n",
    "    elif edad < 22:\n",
    "        madurez = 'juventud'\n",
    "    elif edad < 60:\n",
    "        madurez = 'adulto'\n",
    "    else:\n",
    "        madurez = 'vejez'\n",
    "    return madurez  # no tienen por que coincidir el nombre de la\n",
    "                    # propiedad y el nombre del método"
   ]
  },
  {
   "cell_type": "code",
   "execution_count": 7,
   "metadata": {},
   "outputs": [
    {
     "name": "stdout",
     "output_type": "stream",
     "text": [
      "bebé\n",
      "niñez\n",
      "niñez\n",
      "adolescencia\n",
      "juventud\n",
      "juventud\n",
      "adulto\n",
      "adulto\n",
      "adulto\n",
      "adulto\n",
      "adulto\n",
      "adulto\n",
      "adulto\n",
      "adulto\n",
      "adulto\n",
      "vejez\n",
      "vejez\n",
      "vejez\n"
     ]
    }
   ],
   "source": [
    "for edad in range(1,70,4):\n",
    "    print(madurez(edad))"
   ]
  },
  {
   "cell_type": "code",
   "execution_count": 8,
   "metadata": {},
   "outputs": [
    {
     "name": "stdout",
     "output_type": "stream",
     "text": [
      "2 3 5 7 11 13 17 19 23 29 31 37 41 43 47 53 59 61 67 71 73 79 83 89 97 \n",
      "True\n"
     ]
    }
   ],
   "source": [
    "# método sencillo pero muyyyy ineficiente\n",
    "def primo(valor):  \n",
    "    for i in range(2,valor):\n",
    "        if valor % i is 0:  # % es el resto entero de la división\n",
    "            return False\n",
    "    return True\n",
    " \n",
    "for i in range(2,101):  # buscar los 100 primeros números primos\n",
    "    if primo(i):\n",
    "        print (i, end=' ')\n",
    "        \n",
    "print();print(primo(10343))  # separación de sentencias con ;"
   ]
  },
  {
   "cell_type": "markdown",
   "metadata": {},
   "source": [
    "#### Implementar una función (método, subrutina, procedimiento) que devuelva el perímetro de un triángulo, pasando como argumentos la longitud de sus 3 lados "
   ]
  },
  {
   "cell_type": "markdown",
   "metadata": {},
   "source": [
    "#### Implementar una función (método, subrutina, procedimiento) que devuelva el número de días de un mes pasando como argumentos el número del mes y el número del año "
   ]
  },
  {
   "cell_type": "markdown",
   "metadata": {},
   "source": [
    "#### Implementar una función (método, subrutina, procedimiento) que devuelva la longitud de la hipotenusa pasando como argumentos las longitudes de los catetos; nota:  a ** 0.5 es la raiz cuadrada de a "
   ]
  }
 ],
 "metadata": {
  "kernelspec": {
   "display_name": "Python 3",
   "language": "python",
   "name": "python3"
  },
  "language_info": {
   "codemirror_mode": {
    "name": "ipython",
    "version": 3
   },
   "file_extension": ".py",
   "mimetype": "text/x-python",
   "name": "python",
   "nbconvert_exporter": "python",
   "pygments_lexer": "ipython3",
   "version": "3.7.1"
  }
 },
 "nbformat": 4,
 "nbformat_minor": 2
}
