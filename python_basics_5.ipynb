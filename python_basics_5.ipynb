{
 "cells": [
  {
   "cell_type": "markdown",
   "metadata": {},
   "source": [
    "## Programación Orientada a Objetos \n"
   ]
  },
  {
   "cell_type": "markdown",
   "metadata": {},
   "source": [
    "### Módulos"
   ]
  },
  {
   "cell_type": "code",
   "execution_count": 1,
   "metadata": {},
   "outputs": [
    {
     "name": "stdout",
     "output_type": "stream",
     "text": [
      "Jesús García\n",
      "[(5, 5)|10|15|R1]\n"
     ]
    }
   ],
   "source": [
    "# Tenemos un fichero Persona.py en el que hay una clase Persona\n",
    "from Persona import Persona    # consultar el directorio __pycache__\n",
    "jesus = Persona('Jesús García', '444555666', 40)  # instanciación\n",
    "print(jesus.get_nombre())\n",
    "\n",
    "# Tenemos un fichero Geometria.py en el que hay una clase \n",
    "# Rectangulo2D y otra clase Punto2D\n",
    "#import Geometria\n",
    "#r1 = Geometria.Rectangulo2D(Geometria.Punto2D(5,5),10,15,'R1')\n",
    "from Geometria import Rectangulo2D, Punto2D\n",
    "r1 = Rectangulo2D(Punto2D(5,5),10,15,'R1')\n",
    "print(r1)\n"
   ]
  },
  {
   "cell_type": "code",
   "execution_count": 2,
   "metadata": {},
   "outputs": [],
   "source": [
    "class Tablero:\n",
    "    #...\n",
    "    pass\n",
    "\n",
    "# Figura de Ajedrez\n",
    "class Figura:\n",
    "    __color = ''\n",
    "    __pos_x = 0\n",
    "    __pos_y = 0\n",
    "    \n",
    "    def __init__(self, color, pos_y, pos_x):\n",
    "        assert color=='blanca' or color=='negra'\n",
    "        self.set_color(color)\n",
    "        self.set_pos_x(pos_x)\n",
    "        self.set_pos_y(pos_y)\n",
    "        \n",
    "    def set_color(self, color): self.__color = color\n",
    "        \n",
    "    def set_pos_x(self, pos_x): self.__pos_x = pos_x\n",
    "        \n",
    "    def set_pos_y(self, pos_y): self.__pos_y = pos_y\n",
    "        \n",
    "    def get_color(self): return self.__color\n",
    "    \n",
    "    def get_pos_x(self): return self.__pos_x\n",
    "        \n",
    "    def get_pos_y(self): return self.__pos_y\n",
    "    \n",
    "    def __str__(self):\n",
    "        return self.__color + ', (' + str(self.__pos_y) + ', ' + \\\n",
    "        str(self.__pos_x) + ')'\n",
    "    \n",
    "\n",
    "class Caballo(Figura):\n",
    "    \n",
    "    def __init__(self, color, pos_y, pos_x):\n",
    "        super().__init__(color, pos_y, pos_x)\n",
    "    \n",
    "    # movimientos del caballo en un tablero de cualquier tamaño\n",
    "    # devuelve una lista con los pares (x,y) donde se puede \n",
    "    # mover el caballo (a partir de (y_caballo,x_caballo)\n",
    "    def movimientos(self, tablero):\n",
    "        size = tablero.get_size()\n",
    "        posicion = []\n",
    "        y_caballo = self.get_pos_y()\n",
    "        x_caballo = self.get_pos_x()  \n",
    "        \n",
    "        # movimientos hacia la derecha\n",
    "        if (y_caballo+2) < size and (x_caballo+1) < size:\n",
    "            posicion.append([y_caballo+2,x_caballo+1])\n",
    "        if (y_caballo+1) < size and (x_caballo+2) < size:\n",
    "            posicion.append([y_caballo+1,x_caballo+2])\n",
    "        if (y_caballo-1) >= 0 and (x_caballo+2) < size:\n",
    "            posicion.append([y_caballo-1,x_caballo+2])\n",
    "        if (y_caballo-2) >= 0 and (x_caballo+1) < size:\n",
    "            posicion.append([y_caballo-2,x_caballo+1])      \n",
    " \n",
    "        # movimientos hacia la izquierda\n",
    "        if (y_caballo+2) < size and (x_caballo-1) >= 0:\n",
    "            posicion.append([y_caballo+2,x_caballo-1])\n",
    "        if (y_caballo+1) < size and (x_caballo-2) >= 0:\n",
    "            posicion.append([y_caballo+1,x_caballo-2])\n",
    "        if (y_caballo-1) >= 0 and (x_caballo-2) >= 0:\n",
    "            posicion.append([y_caballo-1,x_caballo-2])\n",
    "        if (y_caballo-2) >= 0 and (x_caballo-1) >= 0:\n",
    "            posicion.append([y_caballo-2,x_caballo-1])\n",
    "    \n",
    "        return posicion\n",
    "    \n",
    "        def __str__(self):\n",
    "            super().__str__()\n",
    "    \n",
    "    # etc."
   ]
  },
  {
   "cell_type": "code",
   "execution_count": 1,
   "metadata": {},
   "outputs": [
    {
     "name": "stdout",
     "output_type": "stream",
     "text": [
      "blanca\n",
      "blanca, (4, 3)\n",
      " vacío   vacío   vacío   vacío   vacío   vacío   vacío   vacío  \n",
      " vacío   vacío   vacío   vacío   vacío   vacío   vacío   vacío  \n",
      " vacío   vacío  caballo  vacío  caballo  vacío   vacío   vacío  \n",
      " vacío  caballo  vacío   vacío   vacío  caballo  vacío   vacío  \n",
      " vacío   vacío   vacío  inicial  vacío   vacío   vacío   vacío  \n",
      " vacío  caballo  vacío   vacío   vacío  caballo  vacío   vacío  \n",
      " vacío   vacío  caballo  vacío  caballo  vacío   vacío   vacío  \n",
      " vacío   vacío   vacío   vacío   vacío   vacío   vacío   vacío  \n",
      "\n"
     ]
    }
   ],
   "source": [
    "from Ajedrez import Tablero, Figura, Caballo\n",
    "import Geometria\n",
    "# Figura tiene el mismo identificador en el módulo Ajedrez y en el\n",
    "# módulo Geometria\n",
    "\n",
    "ajedrez8 = Tablero(8); ajedrez8.clear()\n",
    "ajedrez8.set_casilla(4,3,'inicial')\n",
    "\n",
    "caballo_blancas = Caballo('blanca',4,3)\n",
    "print(caballo_blancas.get_color())\n",
    "print(caballo_blancas)\n",
    "posiciones = caballo_blancas.movimientos(ajedrez8)\n",
    "for pos in posiciones:\n",
    "    ajedrez8.set_casilla(pos[0],pos[1],'caballo')\n",
    "print(ajedrez8)\n",
    "\n",
    "# evitamos la ambigüedad\n",
    "# para poner Ajedrez.Figura hay que usar import Ajedrez\n",
    "fig_punto = Geometria.Figura('figura geométrica')\n",
    "alfil = Figura('negra',7,3)"
   ]
  },
  {
   "cell_type": "code",
   "execution_count": 5,
   "metadata": {},
   "outputs": [
    {
     "name": "stdout",
     "output_type": "stream",
     "text": [
      "[4, 5, 3, 3, 8, 7, 8, 0, 3, 8]\n",
      "\n",
      "4.9 7.65556\n"
     ]
    }
   ],
   "source": [
    "from statistics import mean, variance, mode\n",
    "from random import random\n",
    "\n",
    "numbers = [int(10*random()) for i in range(10)]\n",
    "print(numbers);print()\n",
    "print(mean(numbers), '{:.5f}'.format(variance(numbers)))\n"
   ]
  },
  {
   "cell_type": "markdown",
   "metadata": {},
   "source": [
    "### Strings"
   ]
  },
  {
   "cell_type": "code",
   "execution_count": 3,
   "metadata": {},
   "outputs": [
    {
     "name": "stdout",
     "output_type": "stream",
     "text": [
      "añadir\n",
      "na Sa\n",
      "Ana S\n",
      "S 8\n",
      "AnaAnaAnaAnaAnaAnaAna\n"
     ]
    }
   ],
   "source": [
    "nombre = 'Ana' \n",
    "apellido = \"Sanz\"\n",
    "\n",
    "print('añadir')\n",
    "persona = nombre + ' ' + apellido\n",
    "# son secuencias inmutables, y admiten slices\n",
    "print(persona[1:6])\n",
    "print(persona[:-3])\n",
    "print(persona[4], len(persona))\n",
    "#añadir (no existe append, extend, insert)\n",
    "print(nombre * 7)"
   ]
  },
  {
   "cell_type": "code",
   "execution_count": 5,
   "metadata": {},
   "outputs": [
    {
     "name": "stdout",
     "output_type": "stream",
     "text": [
      "SANZ sanz\n",
      "2 1\n",
      "['Ana', 'Sanz'] ['A', 'a Sa', 'z']\n",
      "1 5\n",
      "True True True\n",
      "False True\n",
      "Ana Sainz\n",
      "['S', 'a', 'n', 'z']\n",
      "el 'matagigantes' tomó la espada\n",
      "el 'matagigantes' tomó la espada\n",
      "c:\\python\\ejemplos\n",
      "['A', 'n', 'a', 'S', 'a', 'n', 'z']\n"
     ]
    }
   ],
   "source": [
    "# varios\n",
    "print(apellido.upper(), apellido.lower())\n",
    "print(persona.count('n'), persona.count('z'))\n",
    "print(persona.split(' '), persona.split('n'))\n",
    "print(persona.find('na'),persona.find('an'))\n",
    "print(nombre.isalpha(),'3689'.isdigit(),'A456'.isalnum())\n",
    "print(apellido.islower(),'sanz'.islower())\n",
    "print(persona.replace('an','ain'))\n",
    "l_apellido = list(apellido)\n",
    "print(l_apellido)\n",
    "print(\"el 'matagigantes' tomó la espada\")\n",
    "print('el \\'matagigantes\\' tomó la espada')\n",
    "print('c:\\\\python\\\\ejemplos')\n",
    "car = [x for x in persona if x != ' ']\n",
    "print(car)"
   ]
  },
  {
   "cell_type": "code",
   "execution_count": 10,
   "metadata": {},
   "outputs": [
    {
     "name": "stdout",
     "output_type": "stream",
     "text": [
      "9314CGT: correcta\n",
      "8923BNM: correcta\n",
      "A891MNB: incorrecta\n",
      "3333CC4: incorrecta\n",
      "44U7V2V: incorrecta\n",
      "56: incorrecta\n",
      "['9314CGT', '8923BNM']\n",
      "['A891MNB', '3333CC4', '44U7V2V', '56']\n"
     ]
    }
   ],
   "source": [
    "# matrícula:  NNNNAAA\n",
    "matriculas = ('9314CGT','8923BNM','A891MNB','3333CC4','44U7V2V','56')\n",
    "for m in matriculas:  \n",
    "    print(m, end=': ')\n",
    "    if len(m) == 7 and m[:4].isdigit() and m[4:].isalpha():\n",
    "        print('correcta')\n",
    "    else:\n",
    "        print('incorrecta')\n",
    "        \n",
    "def correcta(m):\n",
    "    return len(m) == 7 and m[:4].isdigit() and m[4:].isalpha()\n",
    "\n",
    "print( [m for m in matriculas if correcta(m)] )\n",
    "print( [m for m in matriculas if not correcta(m)] )"
   ]
  },
  {
   "cell_type": "code",
   "execution_count": 11,
   "metadata": {},
   "outputs": [
    {
     "name": "stdout",
     "output_type": "stream",
     "text": [
      "10, 10, 10, 10\n"
     ]
    }
   ],
   "source": [
    "quijote = 'en un lugar de la Mancha, de cuyo nombre no'\n",
    "# número de palabras\n",
    "print(len(quijote.split(' ')), end=', ')\n",
    "\n",
    "print(quijote.count(' ')+1, end=', ')\n",
    "\n",
    "num_palabras = 0\n",
    "for x in quijote:\n",
    "    if x == ' ':\n",
    "        num_palabras += 1  \n",
    "print(num_palabras+1, end=', ')        \n",
    "\n",
    "num_palabras = 0\n",
    "fin = False; pos = -1\n",
    "while not fin:\n",
    "    pos = quijote.find(' ', pos+1) \n",
    "    fin = pos == -1\n",
    "    if not fin:\n",
    "        num_palabras += 1\n",
    "print(num_palabras+1, end='\\n')"
   ]
  },
  {
   "cell_type": "code",
   "execution_count": 12,
   "metadata": {},
   "outputs": [
    {
     "name": "stdout",
     "output_type": "stream",
     "text": [
      "3, 3, 3, 3\n"
     ]
    }
   ],
   "source": [
    "# número de a o A\n",
    "print(persona.count('a') + persona.count('A'), end=', ')\n",
    "print(persona.upper().count('A'), end=', ')\n",
    "print(len([x for x in persona if x.upper()=='A']), end=', ')\n",
    "numA = 0\n",
    "for x in persona:\n",
    "    if x.upper() == 'A':\n",
    "        numA += 1\n",
    "print(numA)"
   ]
  }
 ],
 "metadata": {
  "kernelspec": {
   "display_name": "Python 3",
   "language": "python",
   "name": "python3"
  },
  "language_info": {
   "codemirror_mode": {
    "name": "ipython",
    "version": 3
   },
   "file_extension": ".py",
   "mimetype": "text/x-python",
   "name": "python",
   "nbconvert_exporter": "python",
   "pygments_lexer": "ipython3",
   "version": "3.7.1"
  }
 },
 "nbformat": 4,
 "nbformat_minor": 2
}
