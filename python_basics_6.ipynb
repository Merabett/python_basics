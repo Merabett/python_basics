{
 "cells": [
  {
   "cell_type": "markdown",
   "metadata": {},
   "source": [
    "## Programación Orientada a Objetos \n"
   ]
  },
  {
   "cell_type": "markdown",
   "metadata": {},
   "source": [
    "### Métodos II (funciones, procedimientos, subrutinas)"
   ]
  },
  {
   "cell_type": "code",
   "execution_count": 1,
   "metadata": {},
   "outputs": [
    {
     "name": "stdout",
     "output_type": "stream",
     "text": [
      "['Pinta', 'Niña', 'Santa María']\n",
      "20 30\n",
      "10\n"
     ]
    }
   ],
   "source": [
    "# parámetros por valor y por referencia\n",
    "def actualiza_0(lista, nombre):\n",
    "    lista[0] = nombre\n",
    "\n",
    "carabelas = ['Pinza','Niña','Santa María']\n",
    "actualiza_0(carabelas,'Pinta')\n",
    "print(carabelas)   # el objeto mutable se modifica porque no se crea\n",
    "                   # una copia del mismo (lo que se copia es su referencia)\n",
    "\n",
    "def actualiza_a(a,b):\n",
    "    a = b\n",
    "\n",
    "edad_a = 20\n",
    "edad_b = 30\n",
    "actualiza_a(edad_a,edad_b) # los valores (objetos) primitivos NO varían,\n",
    "                           # porque se crean copias de los mismos\n",
    "print(edad_a,edad_b)\n",
    "\n",
    "def actualiza(b):\n",
    "    return b**2+1\n",
    "a = actualiza(3)\n",
    "print(a)"
   ]
  },
  {
   "cell_type": "code",
   "execution_count": 2,
   "metadata": {},
   "outputs": [
    {
     "name": "stdout",
     "output_type": "stream",
     "text": [
      "18\n",
      "6\n",
      "{'hipotenusa': 14, 'cateto_1': 4, 'cateto_2': 5}\n",
      "{'lado_1': 3, 'lado_2': 7, 'lado_3': 9, 'lado_4': 1}\n",
      "3\n",
      "14\n"
     ]
    }
   ],
   "source": [
    "# argumentos sin valores por defecto\n",
    "def perimetro(cateto_1,cateto_2,hipotenusa): \n",
    "    return cateto_1 + cateto_2 + hipotenusa\n",
    "\n",
    "perimetro(4,5,9)  # argumentos por posición\n",
    "perimetro(hipotenusa = 9, cateto_1 = 4, cateto_2 = 5) # argumentos por nombre\n",
    "\n",
    "lados = (4,5,9)\n",
    "perimetro(*lados)  # lo mismo que: perimetro(4,5,9)\n",
    "\n",
    "lados = {'hipotenusa' : 9, 'cateto_1' : 4, 'cateto_2' : 5}\n",
    "perimetro(**lados) # lo mismo que: perimetro(4,5,9)\n",
    " \n",
    "\n",
    "# argumentos con valores por defecto\n",
    "def perimetro(hipotenusa, cateto_1 = 4, cateto_2 = 5): # primero por posición\n",
    "    return cateto_1 + cateto_2 + hipotenusa\n",
    "\n",
    "perimetro(14,4) # lo mismo que: perimetro(14,4,5)\n",
    "perimetro(14)   # lo mismo que: perimetro(14,4,5)\n",
    "perimetro(14,cateto_2=5,cateto_1=10) # lo mismo que: perimetro(14,10,5)\n",
    "\n",
    "\n",
    "# argumentos pasados en una lista\n",
    "def perimetro(*args):\n",
    "    return sum([x for x in args])\n",
    "\n",
    "print(perimetro(5,6,7))\n",
    "print(perimetro(1,2,3))\n",
    "\n",
    "\n",
    "# argumentos pasados en un diccionario\n",
    "def perimetro(**args):\n",
    "    print(args)\n",
    "    keys = args.keys()\n",
    "    p=0\n",
    "    for k in keys:\n",
    "        p += args.get(k)\n",
    "    return p\n",
    "\n",
    "perimetro(hipotenusa=14, cateto_1 = 4, cateto_2 = 5)\n",
    "perimetro(lado_1=3, lado_2=7, lado_3=9, lado_4=1)\n",
    "\n",
    "\n",
    "# mezcla de argumentos\n",
    "def perimetro(l1, l2, l3, *args): # como mínimo 3 lados\n",
    "    return l1 + l2 + l3 + sum([x for x in args])\n",
    "\n",
    "print(perimetro(1,1,1))\n",
    "print(perimetro(1,1,1,2,3,2,4))\n"
   ]
  },
  {
   "cell_type": "code",
   "execution_count": 3,
   "metadata": {},
   "outputs": [
    {
     "name": "stdout",
     "output_type": "stream",
     "text": [
      "120\n",
      "120\n",
      "[2, 3, 5]\n",
      "[3, 5]\n",
      "[5]\n",
      "[]\n",
      "10\n",
      "10\n"
     ]
    }
   ],
   "source": [
    "# recursividad\n",
    "\n",
    "# solución iterativa\n",
    "def factorial(n):\n",
    "    aux = 1\n",
    "    for i in range(2,n+1):\n",
    "        aux *= i\n",
    "    return aux\n",
    "\n",
    "print(factorial(5))\n",
    "\n",
    "# solución recursiva\n",
    "def factorial(n):\n",
    "    if n > 1:\n",
    "        return n * factorial(n-1)\n",
    "    else:\n",
    "        return n\n",
    "\n",
    "print(factorial(5))\n",
    "\n",
    "\n",
    "def suma(lista):\n",
    "    print(lista)\n",
    "    if len(lista) > 0:\n",
    "        return lista[0] + suma(lista[1:])\n",
    "    else:\n",
    "        return 0\n",
    "    \n",
    "print(suma([2,3,5]))\n",
    "\n",
    "def suma(lista):  # lo mismo\n",
    "    return 0 if len(lista)==0 else lista[0] + suma(lista[1:])\n",
    "                                                  \n",
    "print(suma([2,3,5]))\n",
    "                                                  "
   ]
  },
  {
   "cell_type": "code",
   "execution_count": 4,
   "metadata": {},
   "outputs": [
    {
     "name": "stdout",
     "output_type": "stream",
     "text": [
      "4848.0\n",
      "4848.0 10100.0 2020.0 \n",
      "[4848.0, 10100.0, 2020.0]\n"
     ]
    }
   ],
   "source": [
    "# ejemplo: impuestos de sucesiones\n",
    "def comunidad_madrid(herencia, ingresos_anuales):\n",
    "    if herencia > ingresos_anuales:\n",
    "        return (herencia - ingresos_anuales) * 0.03\n",
    "    \n",
    "def navarra(herencia, ingresos_anuales):\n",
    "    return herencia * 0.05\n",
    "\n",
    "def andalucia(herencia, ingresos_anuales):\n",
    "    if (herencia - ingresos_anuales/5) > 0:\n",
    "        return herencia * 0.01 \n",
    "\n",
    "# las funciones se pueden pasar como argumentos    \n",
    "def impuestos(herencia, ingresos_anuales, comunidad):\n",
    "    porcentaje_estatal = 0.01\n",
    "    impuesto_regional = comunidad(herencia, ingresos_anuales)\n",
    "    return impuesto_regional + impuesto_regional * porcentaje_estatal\n",
    "\n",
    "print(impuestos(200000, 40000, comunidad_madrid))\n",
    "\n",
    "for region in (comunidad_madrid,navarra,andalucia):\n",
    "    print(impuestos(200000,40000,region), end= ' ')\n",
    "print()\n",
    "\n",
    "# lo mismo\n",
    "fiscalidad_residencia = [impuestos(200000,40000,region) for region in (comunidad_madrid,navarra,andalucia)]\n",
    "print(fiscalidad_residencia)\n"
   ]
  },
  {
   "cell_type": "code",
   "execution_count": 5,
   "metadata": {},
   "outputs": [
    {
     "name": "stdout",
     "output_type": "stream",
     "text": [
      "8000209.0\n",
      "8000209.0\n",
      "[11, 27, 83]\n",
      "[21.085536923187668, 149.4131591025766, 8104.083927575384]\n"
     ]
    },
    {
     "data": {
      "text/plain": [
       "[11, 27, 83]"
      ]
     },
     "execution_count": 5,
     "metadata": {},
     "output_type": "execute_result"
    }
   ],
   "source": [
    "import math\n",
    "\n",
    "def incremento(i,n): return i + n\n",
    "def porcentaje(i,n): return i * n/100\n",
    "def elevado(i,n): return i ** n\n",
    "\n",
    "valor = 0\n",
    "for operacion in (incremento, porcentaje, elevado):\n",
    "    valor += operacion(200,3)\n",
    "print(valor)\n",
    "\n",
    "# funciones anónimas: lambda. Evitan nombrar funciones sencillas\n",
    "valor = 0\n",
    "for operacion in (lambda i,n: i+n, lambda i,n: i * n/100, lambda i,n: i ** n):\n",
    "    valor += operacion(200,3)\n",
    "print(valor)\n",
    "\n",
    "\n",
    "def opera(lista,func):\n",
    "    return [func(x) if len(lista)>0 else [] for x in lista]\n",
    "\n",
    "print(opera((3,5,9),lambda x: x ** 2 + 2))\n",
    "print(opera((3,5,9),lambda x: math.exp(x) + 1))\n",
    "\n",
    "# la función map aplica una función a un objeto iterable\n",
    "list(map(lambda x: x**2+2, (3,5,9)))\n",
    "\n"
   ]
  },
  {
   "cell_type": "markdown",
   "metadata": {},
   "source": [
    "#### funciones generadoras y expresiones generadoras"
   ]
  },
  {
   "cell_type": "code",
   "execution_count": 6,
   "metadata": {},
   "outputs": [
    {
     "name": "stdout",
     "output_type": "stream",
     "text": [
      "0893BPK 2584UXI 7879VKG 6844SCT 9000QHZ \n",
      "\n",
      "4040IIY 5137NBN 6153JBJ 6408ZZR 7803LLF 1132OON 7838DKD 7780ABB 3134PSP 1877VVR 5430GCG \n",
      "4 16, 36 64 "
     ]
    }
   ],
   "source": [
    "# las generator functions proporcionan datos según se necesitan\n",
    "# evitan almacenar resultados\n",
    "\n",
    "import random\n",
    "letras = 'ABCDEFGHIJKLMNOPQRSTUVWXYZ'   # string.ascii_letters\n",
    "numeros = '0123456789' # string.numbers\n",
    "\n",
    "def matricula_aleatoria():\n",
    "    matricula = ''\n",
    "    for i in range(4):\n",
    "        matricula += random.choice(numeros)\n",
    "    for i in range(3):\n",
    "        matricula += random.choice(letras)\n",
    "    yield matricula   # yield en lugar de return\n",
    "\n",
    "for i in range(5):\n",
    "    print(next(matricula_aleatoria()), end = ' ')\n",
    "print(); print() \n",
    "\n",
    "\n",
    "def erronea(matricula): # supongamos que no se pueden repetir las letras\n",
    "    m = matricula\n",
    "    if m[4] == m[5] or m[4] == m[6] or m[5] == m[6]:\n",
    "        return matricula\n",
    "    else:\n",
    "        return ''\n",
    "        \n",
    "for i in range(100):\n",
    "    m = next(matricula_aleatoria()) # el proceso se bloquea\n",
    "    if len(erronea(m)) > 0:\n",
    "        print(m, end = ' ')\n",
    "print()       \n",
    " \n",
    "    \n",
    "# expresiones generadoras\n",
    "\n",
    "expr_gen = (x**2 for x in range(1, 10) if x % 2 == 0)\n",
    "G = expr_gen\n",
    "print(next(G), end = ' ')\n",
    "print(next(G), end = ', ')\n",
    "for i in G:\n",
    "    print(i, end = ' ')\n"
   ]
  },
  {
   "cell_type": "markdown",
   "metadata": {},
   "source": [
    "### Clases II"
   ]
  },
  {
   "cell_type": "markdown",
   "metadata": {},
   "source": [
    "#### Propiedades y métodos estáticos"
   ]
  },
  {
   "cell_type": "code",
   "execution_count": 7,
   "metadata": {},
   "outputs": [
    {
     "name": "stdout",
     "output_type": "stream",
     "text": [
      "937567\n",
      "458000\n",
      "1475567.0\n",
      "1475567.0\n"
     ]
    }
   ],
   "source": [
    "class ClienteInversion:\n",
    "    __ganancia = None\n",
    "    \n",
    "    # Atributo estático. Compartido por todas las instancias\n",
    "    total_ganancias = 0 # no se puede omitir esta asignación\n",
    "    \n",
    "    def set_ganancia(self, ganancia):\n",
    "        self.__ganancia = ganancia\n",
    "        ClienteInversion.total_ganancias += ganancia\n",
    "    \n",
    "    def get_ganancia(self):\n",
    "        return self.__ganancia\n",
    "    \n",
    "    # método estático. no se le pasa la instancia (self)\n",
    "    def get_total_ganancias():\n",
    "        return ClienteInversion.total_ganancias\n",
    "    \n",
    "BBVA = ClienteInversion()\n",
    "Iberdrola = ClienteInversion()\n",
    "Maphre = ClienteInversion()\n",
    "BBVA.set_ganancia(8E+4)\n",
    "Iberdrola.set_ganancia(458000)\n",
    "BBVA.set_ganancia(937567)\n",
    "print(BBVA.get_ganancia())\n",
    "print(Iberdrola.get_ganancia())\n",
    "print(ClienteInversion.get_total_ganancias())\n",
    "\n",
    "# Error: los métodos estáticos pertenecen a la clase, no a las instancias\n",
    "# print(Iberdrola.get_total_ganancias()) \n",
    "\n",
    "# Error: los métodos de instancia deben ser llamados por una instancia (self)\n",
    "# print(ClienteInversion.get_ganancia())  \n",
    "\n",
    "print(ClienteInversion.total_ganancias)\n"
   ]
  },
  {
   "cell_type": "markdown",
   "metadata": {},
   "source": [
    "#### Métodos privados"
   ]
  },
  {
   "cell_type": "code",
   "execution_count": 8,
   "metadata": {},
   "outputs": [
    {
     "name": "stdout",
     "output_type": "stream",
     "text": [
      "2 2\n",
      "(0.7090055512641943, -2.0423388845975277)\n",
      "(8.516836752405608, -11.183503419072274)\n"
     ]
    }
   ],
   "source": [
    "import math\n",
    "\n",
    "class Parabola:\n",
    "    # recta: ax^2 + bx + c\n",
    "    # cortes: [-b +- sqrt(b^2 - 4ac)] / 2a\n",
    "    \n",
    "    __a = 0; __b = 0; __c = 0 # se puede omitir\n",
    "    \n",
    "    def __init__(self, a, b, c):\n",
    "        self.__a = a\n",
    "        self.__b = b\n",
    "        self.__c = c\n",
    "    \n",
    "    # métodos internos\n",
    "    def __un_corte(self):\n",
    "        return self.__b**2 - math.sqrt(4*self.__a*self.__c) == 0\n",
    "    \n",
    "    def __cero_cortes(self):\n",
    "        return self.__a==0\n",
    "    \n",
    "    def __dos_cortes(self):\n",
    "        return not self.__un_corte() and not self.__cero_cortes() \n",
    "    \n",
    "        \n",
    "    def num_puntos_de_corte(self):\n",
    "        aux = 2\n",
    "        if self.__un_corte():\n",
    "            aux = 1\n",
    "        elif self.__cero_cortes():\n",
    "            aux = 2\n",
    "        return aux\n",
    "    \n",
    "    def raices(self): # solo nos interesan las parábolas con dos raices\n",
    "        if not self.__dos_cortes():\n",
    "            raise Exception()\n",
    "        else:\n",
    "            aux = self.__b**2 - math.sqrt(4*self.__a*self.__c)\n",
    "            r1 = (-self.__b + aux)/(2 * self.__a)\n",
    "            r2 = (-self.__b - aux)/(2 * self.__a)\n",
    "            return (r1,r2)\n",
    "        \n",
    "        \n",
    "p1 = Parabola(3,4,5)\n",
    "p2 = Parabola(3,8,2)\n",
    "\n",
    "#p1.__un_corte()  # error: el método interno no es visible\n",
    "\n",
    "print(p1.num_puntos_de_corte(), p2.num_puntos_de_corte())\n",
    "\n",
    "print(p1.raices())\n",
    "print(p2.raices())\n",
    "   "
   ]
  },
  {
   "cell_type": "markdown",
   "metadata": {},
   "source": [
    "#### Sobrecarga de métodos"
   ]
  },
  {
   "cell_type": "code",
   "execution_count": 9,
   "metadata": {},
   "outputs": [
    {
     "name": "stdout",
     "output_type": "stream",
     "text": [
      "60\n",
      "12\n"
     ]
    }
   ],
   "source": [
    "# Python No soporta sobrecarga de métodos\n",
    "class PruebaSobrecarga:\n",
    "    def multiplica(self, a, b):\n",
    "        return a * b\n",
    "    \n",
    "    def multiplica(self, a, b, c):\n",
    "        return a * b * c\n",
    "        \n",
    "p = PruebaSobrecarga()\n",
    "p.multiplica(3,4,5)\n",
    "# p.multiplica(7,8)  error: el último 'multiplica' es el único visible\n",
    "\n",
    "\n",
    "# simularemos la sobrecarga de métodos de esta manera:\n",
    "class PruebaSobrecarga:\n",
    "    def multiplica(self, a, b, c = None):\n",
    "        if c == None:\n",
    "            return a * b\n",
    "        else:\n",
    "            return a * b * c\n",
    "        \n",
    "p = PruebaSobrecarga()\n",
    "print(p.multiplica(3,4,5))\n",
    "print(p.multiplica(3,4))"
   ]
  },
  {
   "cell_type": "code",
   "execution_count": null,
   "metadata": {},
   "outputs": [],
   "source": []
  }
 ],
 "metadata": {
  "kernelspec": {
   "display_name": "Python 3",
   "language": "python",
   "name": "python3"
  },
  "language_info": {
   "codemirror_mode": {
    "name": "ipython",
    "version": 3
   },
   "file_extension": ".py",
   "mimetype": "text/x-python",
   "name": "python",
   "nbconvert_exporter": "python",
   "pygments_lexer": "ipython3",
   "version": "3.7.1"
  }
 },
 "nbformat": 4,
 "nbformat_minor": 2
}
