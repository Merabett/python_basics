{
 "cells": [
  {
   "cell_type": "markdown",
   "metadata": {},
   "source": [
    "## Programación Orientada a Objetos \n"
   ]
  },
  {
   "cell_type": "markdown",
   "metadata": {},
   "source": [
    "## Listas [mutables] y Tuplas (inmutables)\n",
    "### Arrays (vectores) en otros lenguajes"
   ]
  },
  {
   "cell_type": "code",
   "execution_count": 2,
   "metadata": {},
   "outputs": [
    {
     "name": "stdout",
     "output_type": "stream",
     "text": [
      "('lunes', 'martes', 'miércoles', 'jueves', 'viernes')\n",
      "('lunes', 'martes', 'miércoles', 'jueves', 'viernes', 'sábado', 'domingo')\n",
      "lunes martes miércoles jueves viernes \n",
      "lunes\n",
      "('lunes', 'martes', 'miércoles')\n",
      "('martes', 'miércoles', 'jueves', 'viernes')\n",
      "('lunes', 'martes', 'miércoles')\n",
      "('miércoles', 'jueves', 'viernes')\n",
      "('lunes', 'martes', 'miércoles', 'jueves', 'viernes')\n",
      "31\n",
      "0 2 4 6 7 9 11 \n",
      "\n",
      "['pan', 'fruta', 'queso', 'lechuga', 'leche', 'chocolate']\n",
      "35 34 \n",
      "\n",
      "[35, 34]\n",
      "32\n",
      "[30, 32, 28, 33, 29, 32]\n",
      "31: ['ene', 'mar', 'may', 'jul', 'ago', 'oct', 'dic']\n",
      "30: ['abr', 'jun', 'sep', 'nov']\n",
      "['ene', 'mar', 'may', 'jul', 'ago', 'oct', 'dic']\n"
     ]
    }
   ],
   "source": [
    "# Tuplas ()\n",
    "laborables = ('lunes','martes','miércoles','jueves','viernes') # tupla\n",
    "fin_semana = ('sábado','domingo') # tupla\n",
    "dias = laborables + fin_semana # tupla\n",
    "print(laborables)\n",
    "print(dias)\n",
    "\n",
    "for dia in laborables:\n",
    "    print(dia, end=' ')\n",
    "\n",
    "print('\\n'+laborables[0])\n",
    "print(laborables[0:3])  # slicing\n",
    "print(laborables[1:5])  # slicing\n",
    "print(laborables[:3])   # slicing\n",
    "print(laborables[2:])   # slicing\n",
    "print(laborables[:])    # slicing\n",
    "\n",
    "# laborables[1] = 'MARTES'  # error: las tuplas no se pueden modificar\n",
    "\n",
    "dias_mes = (31,28,31,30,31,30,31,31,30,31,30,31) # tupla\n",
    "MARZO = 2 # se empieza con el 0\n",
    "print(dias_mes[MARZO])\n",
    "\n",
    "# dias_mes[MARZO] = 30  # error: las tuplas no se pueden modificar\n",
    "\n",
    "for mes in range(len(dias_mes)):\n",
    "    if dias_mes[mes] == 31:\n",
    "        print(mes, end=' ')\n",
    "print('\\n')\n",
    "\n",
    "# Listas  []\n",
    "compra = ['pan','azucar','fruta','queso','lechuga']\n",
    "del compra[1]  # ya tenemos azucar\n",
    "compra += ['leche']  # nos falta leche\n",
    "compra.append('chocolate') # y un capricho\n",
    "print(compra)  # las listas son mutables (hemos borrado y añadido)\n",
    "\n",
    "temperaturas = [30,32,28,35,29,34]\n",
    "\n",
    "for i in range(len(temperaturas)):\n",
    "    if temperaturas[i] > 33:\n",
    "        print(temperaturas[i], end=' ')\n",
    "print('\\n')\n",
    "\n",
    "# comprehension: ejecutan más rápido que un bucle for\n",
    "temperaturas_excesivas = [t for t in temperaturas if t>33]\n",
    "print(temperaturas_excesivas)\n",
    "\n",
    "# bajar las temperaturas excesivas 2 grados\n",
    "for t in temperaturas:\n",
    "    if t > 33:\n",
    "        t -= 2\n",
    "        print(t)\n",
    "\n",
    "# comprehension: ejecutan más rápido que un bucle for\n",
    "temperaturas = [30,32,28,35,29,34]\n",
    "temperaturas = [t-2 if t>33 else t for t in temperaturas]\n",
    "print(temperaturas)\n",
    "\n",
    "meses = ('ene','feb','mar','abr','may','jun','jul','ago', \\\n",
    "         'sep','oct','nov','dic')\n",
    "\n",
    "meses_31 = []; meses_30 = [] \n",
    "for mes in range(len(meses)):\n",
    "    if dias_mes[mes] == 31:\n",
    "        meses_31.append(meses[mes])\n",
    "    elif dias_mes[mes] == 30:\n",
    "        meses_30.append(meses[mes])\n",
    "print('31: ' + str(meses_31))\n",
    "print('30: ' + str(meses_30))\n",
    "\n",
    "meses_31 = [meses[mes] for mes in range(len(meses)) if dias_mes[mes] == 31]\n",
    "print(meses_31)"
   ]
  },
  {
   "cell_type": "markdown",
   "metadata": {},
   "source": [
    "#### Crear una tupla con 10 nombres de alumnos, una lista con sus notas del  primer parcial de programación y una más con las notas del segundo parcial de programación.\n",
    "#### Obtener la nota media de todos los alumos, en una lista.\n",
    "#### Sacar una lista de alumnos aprobados y otra de alumnos suspensos\n",
    "#### Hacerlo con comprehensions y sin comprehensions\n",
    "#### Comprobar el uso de los slices"
   ]
  },
  {
   "cell_type": "code",
   "execution_count": 1,
   "metadata": {},
   "outputs": [
    {
     "name": "stdout",
     "output_type": "stream",
     "text": [
      "[6.4, 4.65, 7.1]\n",
      "[6.4, 7.1]\n",
      "[4.65]\n",
      "['juan', 'ana']\n",
      "['pedro']\n"
     ]
    }
   ],
   "source": [
    "# ejercicio resuelto\n",
    "alumno = ('juan','pedro','ana')\n",
    "parcial_1 = [7.8, 3.6, 8.9]\n",
    "parcial_2 = [5.0, 5.7, 5.3]\n",
    "media = [(parcial_1[i]+parcial_2[i])/2 for i in range(len(parcial_1))]\n",
    "print(media)\n",
    "\n",
    "aprobados = [m for m in media if m >= 5.0]\n",
    "suspensos = [m for m in media if m < 5.0]\n",
    "print(aprobados)\n",
    "print(suspensos)\n",
    "\n",
    "aprobados = [alumno[i] for i in range(len(media)) if media[i] >= 5.0]\n",
    "suspensos = [alumno[i] for i in range(len(media)) if media[i] < 5.0]\n",
    "print(aprobados)\n",
    "print(suspensos)"
   ]
  },
  {
   "cell_type": "code",
   "execution_count": 3,
   "metadata": {},
   "outputs": [
    {
     "name": "stdout",
     "output_type": "stream",
     "text": [
      "añadir\n",
      "[14, 8, 6, 20, 5]\n",
      "[14, 8, 0, 6, 20, 5, 4, 6]\n",
      "[14, 7, 7, 8, 0, 6, 20, 5, 4, 6]\n",
      "\n",
      "borrar\n",
      "[14, 7, 8, 6, 20, 5, 4, 6]\n",
      "8\n",
      "[14, 7, 5, 4, 6]\n",
      "\n",
      "copiar\n",
      "True False\n",
      "[14, 7, 5, 4, 6] [5, 4, 6] [5, 4, 6]\n",
      "True True False\n",
      "[]\n",
      "\n",
      "ordenar e invertir\n",
      "[4, 5, 6] [6, 5, 4] [6, 4, 5, 7, 14]\n",
      "\n",
      "varios\n",
      "True False\n",
      "5\n",
      "2\n",
      "2\n"
     ]
    }
   ],
   "source": [
    "# principales métodos y operaciones aplicados a las listas\n",
    "\n",
    "# añadir\n",
    "print('añadir')\n",
    "l1 = []\n",
    "l1.append(14)  # añadir (la opción más usada)\n",
    "l2 = [8,6]\n",
    "l3 = list((20,5)) # constructor\n",
    "l1 += l2 # añadir\n",
    "l1 = l1 + l3\n",
    "print(l1)\n",
    "l1.insert(2,0) # añadir en una posición (añadir un 0 en la pos. 2)\n",
    "l1.extend([4,6]) # añadir una lista\n",
    "print(l1)\n",
    "l1[1:1] = [7,7] # añadir en una posición\n",
    "print(l1) \n",
    "\n",
    "# borrar\n",
    "print('\\nborrar')\n",
    "del l1[4] # borrar una posición\n",
    "l1.remove(7) #borrar un valor\n",
    "print(l1)\n",
    "print(l1.pop(2)) # extraer el elemento situado en la posición 2\n",
    "l1[2:4] = [] # borrar usando slices  (como en la línea 15)\n",
    "print(l1)\n",
    "\n",
    "# copiar\n",
    "print('\\ncopiar')\n",
    "l_ref = l1   # Ojo! copia la referencia, no los datos\n",
    "l_copia = l1.copy()   # duplica la referencia y copia los datos\n",
    "print(l_ref is l1, l_copia is l1)\n",
    "del l1[0:2]\n",
    "print(l_copia, l1, l_ref)\n",
    "print(l_ref == l1, l_ref is l1, l_copia is l1)\n",
    "l_vaciar = l_ref.copy()\n",
    "l_vaciar.clear() # borra todos los datos\n",
    "print(l_vaciar)\n",
    "\n",
    "# ordenar e invertir\n",
    "print('\\nordenar e invertir')\n",
    "l_aux = l1.copy()\n",
    "l1.sort()\n",
    "l_aux.sort(reverse=True)\n",
    "l_copia.reverse()\n",
    "print(l1, l_aux, l_copia)\n",
    "\n",
    "# varios\n",
    "print('\\nvarios')\n",
    "print(14 in l_copia, 3 in l_copia) # pertenencia\n",
    "print(len(l_copia)) # tamaño\n",
    "print(l_copia.index(5)) # primera posición del elemento\n",
    "l_copia.append(7)\n",
    "print(l_copia.count(7)) # cardinalidad del elemento\n"
   ]
  },
  {
   "cell_type": "markdown",
   "metadata": {},
   "source": [
    "#### Añadir 2 alumnos y notas a la tupla y listas del ejercicio anterior. Borrar a un alumno y sus notas. Obtener una lista de  notas ordenadas de forma ascendente y una lista de alumnos ordenados de forma descendente por sus nombres.\n",
    "#### Crear una lista de alumnos aprobados ordenada por sus nombres de forma ascendente. Preguntar si diversos alumnos están en la lista.\n",
    "#### Crear una lista ordenada descendentemente (por el nombre del alumno) con los 3 alumnos con mejor nota, y otra lista ordenada descendentemente (por el nombre del alumno) con los 3 alumnos suspensos."
   ]
  },
  {
   "cell_type": "code",
   "execution_count": 18,
   "metadata": {},
   "outputs": [
    {
     "name": "stdout",
     "output_type": "stream",
     "text": [
      "['juan', 'pedro', 'ana', 'carmen', 'eva'] [7.8, 3.6, 8.9, 5.7, 6.1] [5.0, 5.7, 5.3, 7.9, 5.9]\n",
      "['juan', 'ana', 'carmen', 'eva'] [7.8, 8.9, 5.7, 6.1] [5.0, 5.3, 7.9, 5.9]\n",
      "[6.0, 6.4, 6.800000000000001, 7.1] ['juan', 'eva', 'carmen', 'ana']\n",
      "['carmen', 'juan'] True False\n",
      "['juan', 'eva', 'carmen'] ['eva', 'carmen', 'ana']\n"
     ]
    }
   ],
   "source": [
    "# ejercicio resuelto\n",
    "alumno = ('juan','pedro','ana')\n",
    "parcial_1 = [7.8, 3.6, 8.9]\n",
    "parcial_2 = [5.0, 5.7, 5.3]\n",
    "alumno = list(alumno) # las tuplas son inmutables\n",
    "alumno.extend(['carmen','eva'])\n",
    "parcial_1.extend([5.7, 6.1])\n",
    "parcial_2.append(7.9); parcial_2.append(5.9)\n",
    "print(alumno, parcial_1, parcial_2)\n",
    "\n",
    "alumno.remove('pedro')\n",
    "del parcial_1[1]\n",
    "parcial_2[1:2] = []\n",
    "print(alumno, parcial_1, parcial_2)\n",
    "nota_total = [(parcial_1[i]+parcial_2[i])/2 for i in range(len(alumno))]\n",
    "nota_total.sort()\n",
    "alumno_ordenado = alumno.copy()\n",
    "alumno_ordenado.sort(reverse=True)\n",
    "print(nota_total, alumno_ordenado)\n",
    "\n",
    "aprobados = [alumno[i] for i in range(len(media)) if media[i] >= 5.0]\n",
    "aprobados.sort()\n",
    "print(aprobados, 'carmen' in aprobados, 'eva' in aprobados)\n",
    "\n",
    "print(alumno_ordenado[0:3], alumno_ordenado[-3:])"
   ]
  },
  {
   "cell_type": "code",
   "execution_count": 6,
   "metadata": {},
   "outputs": [
    {
     "name": "stdout",
     "output_type": "stream",
     "text": [
      "Help on class list in module builtins:\n",
      "\n",
      "class list(object)\n",
      " |  list(iterable=(), /)\n",
      " |  \n",
      " |  Built-in mutable sequence.\n",
      " |  \n",
      " |  If no argument is given, the constructor creates a new empty list.\n",
      " |  The argument must be an iterable if specified.\n",
      " |  \n",
      " |  Methods defined here:\n",
      " |  \n",
      " |  __add__(self, value, /)\n",
      " |      Return self+value.\n",
      " |  \n",
      " |  __contains__(self, key, /)\n",
      " |      Return key in self.\n",
      " |  \n",
      " |  __delitem__(self, key, /)\n",
      " |      Delete self[key].\n",
      " |  \n",
      " |  __eq__(self, value, /)\n",
      " |      Return self==value.\n",
      " |  \n",
      " |  __ge__(self, value, /)\n",
      " |      Return self>=value.\n",
      " |  \n",
      " |  __getattribute__(self, name, /)\n",
      " |      Return getattr(self, name).\n",
      " |  \n",
      " |  __getitem__(...)\n",
      " |      x.__getitem__(y) <==> x[y]\n",
      " |  \n",
      " |  __gt__(self, value, /)\n",
      " |      Return self>value.\n",
      " |  \n",
      " |  __iadd__(self, value, /)\n",
      " |      Implement self+=value.\n",
      " |  \n",
      " |  __imul__(self, value, /)\n",
      " |      Implement self*=value.\n",
      " |  \n",
      " |  __init__(self, /, *args, **kwargs)\n",
      " |      Initialize self.  See help(type(self)) for accurate signature.\n",
      " |  \n",
      " |  __iter__(self, /)\n",
      " |      Implement iter(self).\n",
      " |  \n",
      " |  __le__(self, value, /)\n",
      " |      Return self<=value.\n",
      " |  \n",
      " |  __len__(self, /)\n",
      " |      Return len(self).\n",
      " |  \n",
      " |  __lt__(self, value, /)\n",
      " |      Return self<value.\n",
      " |  \n",
      " |  __mul__(self, value, /)\n",
      " |      Return self*value.\n",
      " |  \n",
      " |  __ne__(self, value, /)\n",
      " |      Return self!=value.\n",
      " |  \n",
      " |  __repr__(self, /)\n",
      " |      Return repr(self).\n",
      " |  \n",
      " |  __reversed__(self, /)\n",
      " |      Return a reverse iterator over the list.\n",
      " |  \n",
      " |  __rmul__(self, value, /)\n",
      " |      Return value*self.\n",
      " |  \n",
      " |  __setitem__(self, key, value, /)\n",
      " |      Set self[key] to value.\n",
      " |  \n",
      " |  __sizeof__(self, /)\n",
      " |      Return the size of the list in memory, in bytes.\n",
      " |  \n",
      " |  append(self, object, /)\n",
      " |      Append object to the end of the list.\n",
      " |  \n",
      " |  clear(self, /)\n",
      " |      Remove all items from list.\n",
      " |  \n",
      " |  copy(self, /)\n",
      " |      Return a shallow copy of the list.\n",
      " |  \n",
      " |  count(self, value, /)\n",
      " |      Return number of occurrences of value.\n",
      " |  \n",
      " |  extend(self, iterable, /)\n",
      " |      Extend list by appending elements from the iterable.\n",
      " |  \n",
      " |  index(self, value, start=0, stop=9223372036854775807, /)\n",
      " |      Return first index of value.\n",
      " |      \n",
      " |      Raises ValueError if the value is not present.\n",
      " |  \n",
      " |  insert(self, index, object, /)\n",
      " |      Insert object before index.\n",
      " |  \n",
      " |  pop(self, index=-1, /)\n",
      " |      Remove and return item at index (default last).\n",
      " |      \n",
      " |      Raises IndexError if list is empty or index is out of range.\n",
      " |  \n",
      " |  remove(self, value, /)\n",
      " |      Remove first occurrence of value.\n",
      " |      \n",
      " |      Raises ValueError if the value is not present.\n",
      " |  \n",
      " |  reverse(self, /)\n",
      " |      Reverse *IN PLACE*.\n",
      " |  \n",
      " |  sort(self, /, *, key=None, reverse=False)\n",
      " |      Stable sort *IN PLACE*.\n",
      " |  \n",
      " |  ----------------------------------------------------------------------\n",
      " |  Static methods defined here:\n",
      " |  \n",
      " |  __new__(*args, **kwargs) from builtins.type\n",
      " |      Create and return a new object.  See help(type) for accurate signature.\n",
      " |  \n",
      " |  ----------------------------------------------------------------------\n",
      " |  Data and other attributes defined here:\n",
      " |  \n",
      " |  __hash__ = None\n",
      "\n"
     ]
    }
   ],
   "source": [
    "# para consultar los métodos que admite un objeto:\n",
    "help(list)"
   ]
  },
  {
   "cell_type": "code",
   "execution_count": 26,
   "metadata": {},
   "outputs": [],
   "source": [
    "class Persona:\n",
    "    __nombre = None\n",
    "    __telefono = None\n",
    "    __edad = None\n",
    "    \n",
    "    def __init__(self, nombre, telefono, edad):\n",
    "        self.__nombre = nombre\n",
    "        self.__telefono = telefono\n",
    "        self.__edad = edad\n",
    "        \n",
    "    def get_nombre(self):\n",
    "        return self.__nombre\n",
    "    \n",
    "    # etc."
   ]
  },
  {
   "cell_type": "code",
   "execution_count": 27,
   "metadata": {},
   "outputs": [],
   "source": [
    "class Alumno(Persona):\n",
    "    __nota = 0\n",
    "    \n",
    "    def __init__(self, nombre, telefono, edad, nota):\n",
    "        super().__init__(nombre, telefono, edad)\n",
    "        self.set_nota(nota)\n",
    "        \n",
    "    def set_nota(self, nota):\n",
    "        self.__nota = nota\n",
    "        \n",
    "    def get_nota(self):\n",
    "        return self.__nota\n",
    "    \n",
    "    def __str__(self):\n",
    "        return self.get_nombre()+': '+str(self.get_nota())\n",
    "    \n",
    "    def __lt__(self, p):    # compareTo\n",
    "        return self.get_nombre() < p.get_nombre()\n",
    "    \n",
    "    def __gt__(self, p):\n",
    "        return self.get_nombre() > p.get_nombre()\n",
    "    \n",
    "    def __eq__(self, p):\n",
    "        return self.get_nombre() == p.get_nombre()\n",
    "        "
   ]
  },
  {
   "cell_type": "code",
   "execution_count": 6,
   "metadata": {},
   "outputs": [
    {
     "name": "stdout",
     "output_type": "stream",
     "text": [
      "García Juan: 8.5\n",
      "Pérez Ana: 7\n",
      "Fernández Raúl: 9.8\n",
      "Picapiedra Pedro: 2.3\n",
      "Higueras Susana: 6.9\n",
      "Alonso Luis: 4.0\n",
      "\n",
      "García Juan: 8.5\n",
      "Pérez Ana: 7\n",
      "Fernández Raúl: 9.8\n",
      "Higueras Susana: 6.9\n",
      "\n",
      "García Juan: 8.5\n",
      "Pérez Ana: 7\n",
      "Fernández Raúl: 9.8\n",
      "Higueras Susana: 6.9\n",
      "[2.3, 4.0, 6.9, 7, 8.5, 9.8]\n",
      "[2.8, 4.5, 7.4, 7.5, 9.0, 10.3]\n",
      "[2.8, 5.0, 7.4, 7.5, 9.0, 10.0]\n",
      "\n",
      "Alonso Luis: 4.0\n",
      "Fernández Raúl: 9.8\n",
      "García Juan: 8.5\n",
      "Higueras Susana: 6.9\n",
      "Picapiedra Pedro: 2.3\n",
      "Pérez Ana: 7\n"
     ]
    }
   ],
   "source": [
    "# listas de objetos\n",
    "\n",
    "a1 = Alumno('García Juan',None,None,8.5)\n",
    "a2 = Alumno('Pérez Ana',None,None,7)\n",
    "a3 = Alumno('Fernández Raúl',None,None,9.8)\n",
    "a4 = Alumno('Picapiedra Pedro',None,None,2.3)\n",
    "a5 = Alumno('Higueras Susana',None,None,6.9)\n",
    "a6 = Alumno('Alonso Luis',None,None,4.0)\n",
    "\n",
    "algebra = [a1,a2,a3,a4,a5,a6]\n",
    "\n",
    "for alumno in algebra:\n",
    "    print(alumno)\n",
    "\n",
    "aprobados = []\n",
    "for alumno in algebra:\n",
    "    if alumno.get_nota() >= 5.0:\n",
    "        aprobados.append(alumno)\n",
    "print()\n",
    "for alumno in aprobados:\n",
    "    print(alumno)\n",
    "\n",
    "print()  # lo mismo, usando comprehensions\n",
    "[print(alumno) for alumno in algebra if alumno.get_nota()>=5.0]\n",
    "\n",
    "notas = [alumno.get_nota() for alumno in algebra]\n",
    "notas.sort()\n",
    "print(notas)\n",
    "\n",
    "# subimos 0.5 puntos y los que tengan entre 4.5 y 5 se aprueban\n",
    "# con comprehensions\n",
    "notas_felices = [nota+0.5 for nota in notas]\n",
    "print(notas_felices)\n",
    "notas_felices = [5.0 if nota>=4.5 and nota < 5.0 else nota for nota in notas_felices]\n",
    "notas_felices = [10.0 if nota>10.0 else nota for nota in notas_felices]\n",
    "print(notas_felices);print()\n",
    "\n",
    "algebra.sort() # ordena las personas atendiendo a su nombre: __lt__\n",
    "for alumno in algebra:\n",
    "    print(alumno)\n",
    "# nada = [print(alumno) for alumno in algebra]\n"
   ]
  },
  {
   "cell_type": "markdown",
   "metadata": {},
   "source": [
    "#### Repetir el ejercicio de los alumnos y sus notas, pero haciendo uso de una clase alumno"
   ]
  },
  {
   "cell_type": "code",
   "execution_count": 27,
   "metadata": {},
   "outputs": [
    {
     "name": "stdout",
     "output_type": "stream",
     "text": [
      "[4.0, 9.8, 8.5]\n",
      "[5.0, 8.7, 7.8]\n",
      "[6.5, 6.8, 5.6]\n",
      "[4.1, 5.3, 7.7]\n",
      "\n",
      "[4.0, 9.8, 8.5]\n",
      "4 3\n"
     ]
    }
   ],
   "source": [
    "# Listas bidimensionales\n",
    "asignaturas = ('programación','lógica','álgebra')\n",
    "alumnos = ('Alonso Luis','Fernández Raúl','García Juan','Higueras Susana')\n",
    "notas = [[4.0,9.8,8.5],\n",
    "         [5.0,8.7,7.8],\n",
    "         [6.5,6.8,5.6],\n",
    "         [4.1,5.3,7.7],\n",
    "        ]\n",
    "#notas = [[4.0,9.8,8.5],[5.0,8.7,7.8],[6.5,6.8,5.6],[4.1,5.3,7.7]]\n",
    "\n",
    "for alumno in notas:\n",
    "    print(alumno)\n",
    "print()\n",
    "print(notas[0])\n",
    "print(len(notas), len(notas[0])) # filas, columnas"
   ]
  },
  {
   "cell_type": "code",
   "execution_count": 28,
   "metadata": {},
   "outputs": [
    {
     "name": "stdout",
     "output_type": "stream",
     "text": [
      "4.0 9.8 8.5 \n",
      "5.0 8.7 7.8 \n",
      "6.5 6.8 5.6 \n",
      "4.1 5.3 7.7 \n",
      "Alonso Luis: (programación, 4.0)(lógica, 9.8)(álgebra, 8.5)\n",
      "Fernández Raúl: (programación, 5.0)(lógica, 8.7)(álgebra, 7.8)\n",
      "García Juan: (programación, 6.5)(lógica, 6.8)(álgebra, 5.6)\n",
      "Higueras Susana: (programación, 4.1)(lógica, 5.3)(álgebra, 7.7)\n"
     ]
    }
   ],
   "source": [
    "for alumno in range(len(notas)): # 0,1,2,3\n",
    "    for asignatura in range(len(notas[0])): # 0,1,2\n",
    "        print(notas[alumno][asignatura], end=' ') # acceso a elemento\n",
    "    print()\n",
    "    \n",
    "for alumno in range(len(notas)): # 0,1,2,3\n",
    "    print (alumnos[alumno] + ':', end=' ')\n",
    "    for asignatura in range(len(notas[0])): # 0,1,2\n",
    "        print('(' + asignaturas[asignatura] +', ', end='')\n",
    "        print(notas[alumno][asignatura], end=')')\n",
    "    print()"
   ]
  },
  {
   "cell_type": "code",
   "execution_count": 29,
   "metadata": {},
   "outputs": [
    {
     "name": "stdout",
     "output_type": "stream",
     "text": [
      "4.0 9.8 8.5\n",
      "4.5 8.7 7.8\n",
      "6.5 6.8 5.6\n",
      "5.0 5.3 7.7\n",
      "4 9 8 \n",
      "4 8 7 \n",
      "6 6 5 \n",
      "5 5 7 \n"
     ]
    }
   ],
   "source": [
    "# modificar valores\n",
    "notas[3][0] = 5.0  # aprobado en revisión\n",
    "notas[alumnos.index('Fernández Raúl')][asignaturas.index('programación')] = 4.5\n",
    "\n",
    "foo = [print(notas[i][j]) if j==2 else print(notas[i][j], end=' ') for i in range(4) for j in range(3)]\n",
    "\n",
    "# truncar las notas\n",
    "for alumno in range(len(notas)): # 0,1,2,3\n",
    "    for asignatura in range(len(notas[0])): # 0,1,2\n",
    "        notas[alumno][asignatura] = int(notas[alumno][asignatura])\n",
    "        print(notas[alumno][asignatura], end=' ')\n",
    "    print()\n"
   ]
  },
  {
   "cell_type": "code",
   "execution_count": 96,
   "metadata": {},
   "outputs": [
    {
     "name": "stdout",
     "output_type": "stream",
     "text": [
      "[5.2, 5.166666666666666, 11.166666666666666, 16.099999999999998, 19.133333333333336, 23.899999999999995, 29.866666666666664, 31.5, 24.5, 17.76666666666667, 12.266666666666667, 4.3]\n",
      "[16.45, 16.708333333333336, 17.058333333333334]\n"
     ]
    }
   ],
   "source": [
    "meses = ('ene','feb','mar','abr','may','jun','jul','ago','sep','oct','nov','dic')\n",
    "anios = (2018, 2019, 2020)\n",
    "temperatura = [[6.7,6.8,9.6,13.8,18.1,23.5,28.2,30.3,23.5,18.9,12.4,5.6],\n",
    "               [3.2,6.6,10.5,16.2,19.1,25.3,29.9,32.5,25.2,17.8,11.3,2.9],\n",
    "               [5.7,2.1,13.4,18.3,20.2,22.9,31.5,31.7,24.8,16.6,13.1,4.4]]\n",
    "\n",
    "# temperatura media de cada mes\n",
    "media_mes = []\n",
    "for m in range(len(meses)):\n",
    "    media = 0.0\n",
    "    for a in range(len(anios)):\n",
    "        media += temperatura[a][m]\n",
    "    media_mes.append(media/len(anios))\n",
    "    \n",
    "print(media_mes)\n",
    "\n",
    "# temperatura media de cada año\n",
    "media_anio = []\n",
    "for a in range(len(anios)):\n",
    "    media = 0.0\n",
    "    for m in range(len(meses)):\n",
    "        media += temperatura[a][m]\n",
    "    media_anio.append(media/len(meses))\n",
    "    \n",
    "print(media_anio)"
   ]
  },
  {
   "cell_type": "code",
   "execution_count": 92,
   "metadata": {},
   "outputs": [
    {
     "name": "stdout",
     "output_type": "stream",
     "text": [
      "16.45  16.708333333333336  17.058333333333334  "
     ]
    }
   ],
   "source": [
    "# temperatura media de cada año\n",
    "for a in range(len(anios)):\n",
    "    print(sum(temperatura[a])/len(meses), end = '  ')"
   ]
  },
  {
   "cell_type": "code",
   "execution_count": 156,
   "metadata": {},
   "outputs": [
    {
     "name": "stdout",
     "output_type": "stream",
     "text": [
      "ene: 5.20  feb: 5.17  mar: 11.17  abr: 16.10  may: 19.13  jun: 23.90  jul: 29.87  ago: 31.50  sep: 24.50  oct: 17.77  nov: 12.27  dic: 4.30  "
     ]
    }
   ],
   "source": [
    "for m in range(len(meses)):\n",
    "    #print(meses[m] + ':' + str(media_mes[m]), end = '  ')\n",
    "    print(meses[m] + ': ' + '{:.2f}'.format(media_mes[m]), end = '  ')"
   ]
  },
  {
   "cell_type": "code",
   "execution_count": 87,
   "metadata": {},
   "outputs": [
    {
     "name": "stdout",
     "output_type": "stream",
     "text": [
      "32.5\n",
      "32.5\n"
     ]
    }
   ],
   "source": [
    "# temperatura máxima histórica\n",
    "max_temperatura = -200\n",
    "for a in range(len(anios)):\n",
    "    for m in range(len(meses)):\n",
    "        if temperatura[a][m] > max_temperatura:\n",
    "            max_temperatura = temperatura[a][m]\n",
    "            \n",
    "print(max_temperatura)\n",
    "\n",
    "# temperatura máxima histórica\n",
    "print(max(temperatura[0] + temperatura[1] + temperatura[2]))"
   ]
  },
  {
   "cell_type": "code",
   "execution_count": 99,
   "metadata": {},
   "outputs": [
    {
     "name": "stdout",
     "output_type": "stream",
     "text": [
      "197.4\n",
      "2.9\n"
     ]
    }
   ],
   "source": [
    "print(sum(temperatura[anios.index(2018)]))\n",
    "print(min(temperatura[anios.index(2019)]))"
   ]
  },
  {
   "cell_type": "code",
   "execution_count": 177,
   "metadata": {},
   "outputs": [
    {
     "name": "stdout",
     "output_type": "stream",
     "text": [
      "5 6 5 6 7 6 7 6 5 7 \n",
      "[46, 46, 50, 38, 27, 41, 23, 21, 38, 43]\n",
      "[33, 23, 36, 30, 28, 49, 49, 39, 50, 26]\n",
      "[35, 21, 42, 46, 29, 39, 49, 46, 43, 27]\n",
      "[39, 44, 37, 35, 22, 21, 27, 37, 48, 21]\n",
      "[50, 42, 50, 38, 23, 23, 34, 50, 22, 43]\n",
      "[49, 29, 46, 21, 40, 30, 41, 40, 46, 34]\n",
      "[22, 42, 50, 20, 49, 20, 23, 33, 38, 47]\n",
      "[39, 22, 33, 43, 24, 41, 27, 45, 45, 42]\n",
      "[27, 28, 34, 27, 41, 27, 20, 49, 36, 24]\n",
      "[32, 45, 48, 31, 29, 21, 33, 41, 28, 39]\n",
      "\n",
      "[[27, 28, 34, 27, 41, 27, 20, 49, 36, 24], [32, 45, 48, 31, 29, 21, 33, 41, 28, 39]]\n"
     ]
    }
   ],
   "source": [
    "import random as r\n",
    "for i in range(10):\n",
    "    print(r.randint(5,7), end = ' ')\n",
    "print()  \n",
    "\n",
    "matriz = [[r.randint(20,50) for i in range(10)] for j in range(12)]\n",
    "nada = [print(matriz[i]) for i in range(10)]\n",
    "print()\n",
    "\n",
    "nov_dic = matriz[8:10]\n",
    "print(nov_dic)"
   ]
  },
  {
   "cell_type": "code",
   "execution_count": 179,
   "metadata": {},
   "outputs": [
    {
     "name": "stdout",
     "output_type": "stream",
     "text": [
      "[2, 0, 1, 3, 7, 8, 6, 9, 4, 5]\n"
     ]
    }
   ],
   "source": [
    "x = list(range(10))\n",
    "r.shuffle(x)\n",
    "print(x)"
   ]
  },
  {
   "cell_type": "code",
   "execution_count": 176,
   "metadata": {},
   "outputs": [
    {
     "name": "stdout",
     "output_type": "stream",
     "text": [
      "[408, 358, 363, 348, 341, 356, 357, 370, 389, 377, 304, 300] 35.59166666666667\n",
      "\n",
      " 14.41   7.41   9.41  10.41  -0.59  -1.59 -14.59  10.41  13.41  -6.59 -14.59 -10.59 \n",
      "  7.41  -8.59  10.41  -2.59 -12.59 -13.59   1.41   5.41  -1.59   6.41 -10.59  -6.59 \n",
      "  8.41  14.41  14.41  13.41  10.41   3.41 -12.59  -4.59   6.41  13.41  -6.59 -10.59 \n",
      "  9.41  -3.59 -12.59  -3.59 -12.59  10.41  10.41   6.41  14.41   0.41   4.41  10.41 \n",
      "  2.41 -13.59  -4.59 -10.59  11.41   4.41  -2.59  -2.59   4.41  -6.59  -8.59 -15.59 \n",
      "-10.59  -4.59  -2.59 -13.59  -9.59  -3.59  10.41   1.41  11.41   2.41 -12.59  -3.59 \n",
      " 10.41  -8.59 -15.59   7.41 -15.59  -3.59   3.41  -7.59 -11.59  13.41  14.41  -8.59 \n",
      " -0.59  -6.59 -11.59   3.41  -9.59  -4.59  -2.59  11.41  -2.59  -9.59   3.41  -2.59 \n",
      " -1.59  13.41  14.41  -0.59   9.41  10.41  -1.59 -13.59  12.41   4.41 -13.59   3.41 \n",
      " 12.41  12.41   5.41 -11.59  14.41  -1.59   9.41   7.41 -13.59   3.41  -7.59 -11.59 \n"
     ]
    }
   ],
   "source": [
    "# matriz en la que cada elemento contiene la desviación de la media de los elementos\n",
    "# originales\n",
    "\n",
    "sumas = [sum(matriz[a]) for a in range(len(matriz))]\n",
    "media = sum(sumas)/(len(matriz)*len(matriz[0]))\n",
    "print(sumas, media)\n",
    "print()\n",
    "matriz2 = [[matriz[a][m]-media for a in range(len(matriz))] for m in range(len(matriz[0]))]\n",
    "\n",
    "def imprime_matriz(m):\n",
    "    for i in range(len(m)):\n",
    "        for j in range(len(m[0])):\n",
    "            print('{:6.2f}'.format(m[i][j]), end = ' ')\n",
    "        print()\n",
    "\n",
    "imprime_matriz(matriz2)\n"
   ]
  },
  {
   "cell_type": "code",
   "execution_count": 168,
   "metadata": {},
   "outputs": [
    {
     "name": "stdout",
     "output_type": "stream",
     "text": [
      "[[2011, 'ene'], [2011, 'dic'], [2012, 'nov'], [2014, 'abr'], [2015, 'feb'], [2015, 'abr'], [2016, 'ene'], [2016, 'oct'], [2017, 'feb'], [2017, 'dic'], [2018, 'oct'], [2019, 'oct'], [2020, 'feb'], [2020, 'jul'], [2020, 'oct']]\n"
     ]
    }
   ],
   "source": [
    "# crear una lista que muestre los pares (año,mes) cuya desviación respecto a la\n",
    "# media sea superior a 14. Suponer que los años son 2011 a 2020\n",
    "\n",
    "v_extremo = []\n",
    "for i in range(len(matriz2)):\n",
    "    for j in range(len(matriz2[0])):\n",
    "        if (matriz2[i][j] > 14 or matriz2[i][j] < -14):\n",
    "            v_extremo.append([2011+i, meses[j]])\n",
    "\n",
    "print(v_extremo)"
   ]
  },
  {
   "cell_type": "markdown",
   "metadata": {},
   "source": [
    "#### Crear un tablero de ajedrez utilizando una lista bidimensional. Colocar las figuras: 'p', peón; 't', torre; 'a': alfil, 'c': caballo, 'r': reina, 'R': rey, ' ', vacío. Realizar algunos movimientos de figuras, visualizando los tableros resultantes. Implementar un método que devuelva (en una lista) los posibles movimientos de la torre situada en una posición inicial (x,y); en esta lista no se contemplan las posiciones de las demás figuras (el tablero solo contiene la torre)."
   ]
  },
  {
   "cell_type": "code",
   "execution_count": 8,
   "metadata": {},
   "outputs": [],
   "source": [
    "class Tablero:\n",
    "    __tablero = None\n",
    "    __size = None\n",
    "    \n",
    "    def __init__(self, size):\n",
    "        self.__size = size\n",
    "        self.__tablero = [['' for y in range(size)] for x in range(size)]\n",
    "        self.clear()\n",
    "        self.set_casilla(0,0,' torre ')\n",
    "        self.set_casilla(0,1,'caballo')\n",
    "        self.set_casilla(0,2,' alfil ')\n",
    "        # etc.\n",
    "        \n",
    "    def clear(self):\n",
    "        for y in range(self.get_size()):\n",
    "            for x in range(self.get_size()):\n",
    "                self.set_casilla(y,x,' vacío ')\n",
    "                \n",
    "    def set_casilla(self, y, x, estado):\n",
    "        self.__tablero[y][x] = estado\n",
    "        \n",
    "    def get_casilla(self, y, x):\n",
    "        return self.__tablero[y][x]\n",
    "    \n",
    "    def get_size(self):\n",
    "        return self.__size\n",
    "        \n",
    "    def __str__(self):\n",
    "        aux=''\n",
    "        for y in range(self.get_size()):\n",
    "            for x in range(self.get_size()):\n",
    "                aux += self.get_casilla(y,x)+' '\n",
    "            aux += '\\n'\n",
    "        return aux\n",
    "           "
   ]
  },
  {
   "cell_type": "code",
   "execution_count": 38,
   "metadata": {},
   "outputs": [
    {
     "name": "stdout",
     "output_type": "stream",
     "text": [
      " torre  caballo  alfil   vacío   vacío   vacío   vacío   vacío  \n",
      " vacío   vacío   vacío   vacío   vacío   vacío   vacío   vacío  \n",
      " vacío   vacío   vacío   vacío   vacío   vacío   vacío   vacío  \n",
      " vacío   vacío   vacío   vacío   vacío   vacío   vacío   vacío  \n",
      " vacío   vacío   vacío   vacío   vacío   vacío   vacío   vacío  \n",
      " vacío   vacío   vacío   vacío   vacío   vacío   vacío   vacío  \n",
      " vacío   vacío   vacío   vacío   vacío   vacío   vacío   vacío  \n",
      " vacío   vacío   vacío   vacío   vacío   vacío   vacío   vacío  \n",
      "\n",
      " torre  caballo  alfil   vacío   vacío   vacío   vacío   vacío  \n",
      " vacío   vacío   vacío   vacío   vacío   vacío   vacío   vacío  \n",
      " vacío   vacío   vacío   vacío   vacío   vacío   vacío   vacío  \n",
      " vacío   vacío   vacío   vacío   vacío   vacío   vacío   vacío  \n",
      " vacío   vacío   vacío   vacío   vacío   vacío   vacío   vacío  \n",
      " vacío   vacío   vacío   vacío   vacío   vacío   vacío   vacío  \n",
      " vacío   vacío   vacío   vacío   vacío   vacío   vacío   vacío  \n",
      " vacío   vacío   vacío   vacío   vacío   vacío   vacío   torre  \n",
      "\n"
     ]
    }
   ],
   "source": [
    "ajedrez = Tablero(8)\n",
    "print(ajedrez)\n",
    "ajedrez.set_casilla(7,7,' torre ')\n",
    "print(ajedrez)"
   ]
  },
  {
   "cell_type": "code",
   "execution_count": 16,
   "metadata": {},
   "outputs": [
    {
     "name": "stdout",
     "output_type": "stream",
     "text": [
      "[[3, 3], [3, 1], [2, 0], [0, 0]]\n",
      "caballo  vacío   vacío   vacío  \n",
      " vacío   vacío  inicial  vacío  \n",
      "caballo  vacío   vacío   vacío  \n",
      " vacío  caballo  vacío  caballo \n",
      "\n",
      "\n",
      " vacío   vacío   vacío   vacío   vacío   vacío   vacío   vacío  \n",
      " vacío   vacío   vacío   vacío   vacío   vacío   vacío   vacío  \n",
      " vacío   vacío   vacío   vacío  caballo  vacío  caballo  vacío  \n",
      " vacío   vacío   vacío  caballo  vacío   vacío   vacío  caballo \n",
      " vacío   vacío   vacío   vacío   vacío  inicial  vacío   vacío  \n",
      " vacío   vacío   vacío  caballo  vacío   vacío   vacío  caballo \n",
      " vacío   vacío   vacío   vacío  caballo  vacío  caballo  vacío  \n",
      " vacío   vacío   vacío   vacío   vacío   vacío   vacío   vacío  \n",
      "\n"
     ]
    }
   ],
   "source": [
    "# movimientos del caballo en un tablero de cualquier tamaño\n",
    "# devuelve una lista con los pares (x,y) donde se puede \n",
    "# mover el caballo ...a partir de (y_caballo,x_caballo)\n",
    "def movimientos_caballo(tablero, y_caballo, x_caballo):\n",
    "    size = tablero.get_size()\n",
    "    posicion = []\n",
    "    # movimientos hacia la derecha\n",
    "    if (y_caballo+2) < size and (x_caballo+1) < size:\n",
    "        posicion.append([y_caballo+2,x_caballo+1])\n",
    "    if (y_caballo+1) < size and (x_caballo+2) < size:\n",
    "        posicion.append([y_caballo+1,x_caballo+2])\n",
    "    if (y_caballo-1) >= 0 and (x_caballo+2) < size:\n",
    "        posicion.append([y_caballo-1,x_caballo+2])\n",
    "    if (y_caballo-2) >= 0 and (x_caballo+1) < size:\n",
    "        posicion.append([y_caballo-2,x_caballo+1])      \n",
    " \n",
    "    # movimientos hacia la izquierda\n",
    "    if (y_caballo+2) < size and (x_caballo-1) >= 0:\n",
    "        posicion.append([y_caballo+2,x_caballo-1])\n",
    "    if (y_caballo+1) < size and (x_caballo-2) >= 0:\n",
    "        posicion.append([y_caballo+1,x_caballo-2])\n",
    "    if (y_caballo-1) >= 0 and (x_caballo-2) >= 0:\n",
    "        posicion.append([y_caballo-1,x_caballo-2])\n",
    "    if (y_caballo-2) >= 0 and (x_caballo-1) >= 0:\n",
    "        posicion.append([y_caballo-2,x_caballo-1])\n",
    "    \n",
    "    return posicion\n",
    "\n",
    "ajedrez4 = Tablero(4); ajedrez4.clear()\n",
    "posiciones = movimientos_caballo(ajedrez4, 1, 2)\n",
    "print(posiciones)\n",
    "ajedrez4.set_casilla(1,2,'inicial')\n",
    "for pos in posiciones:\n",
    "    ajedrez4.set_casilla(pos[0],pos[1],'caballo')\n",
    "print(ajedrez4);print()\n",
    "\n",
    "ajedrez8 = Tablero(8); ajedrez8.clear()\n",
    "ajedrez8.set_casilla(4,5,'inicial')\n",
    "posiciones = movimientos_caballo(ajedrez8, 4, 5)\n",
    "for pos in posiciones:\n",
    "    ajedrez8.set_casilla(pos[0],pos[1],'caballo')\n",
    "print(ajedrez8)\n"
   ]
  },
  {
   "cell_type": "markdown",
   "metadata": {},
   "source": [
    "## Conjuntos (sets)"
   ]
  },
  {
   "cell_type": "code",
   "execution_count": 2,
   "metadata": {},
   "outputs": [
    {
     "name": "stdout",
     "output_type": "stream",
     "text": [
      "{'Ana', 'Juan', 'Amanda'}\n",
      "{'Santiago'}\n",
      "{'Yolanda', 'Susana'}\n",
      "no hay directores top\n"
     ]
    }
   ],
   "source": [
    "directores = {'Juan','Ana','Luis','Amanda'}\n",
    "gerentes = {'Pedro','Beatriz','Yolanda','Susana','Zoe'}\n",
    "empleados = {'Javier','Santiago','Nuria','Rosa','María','Jorge'}\n",
    "ingenieros = {'Nuria','Jorge','Santiago','Rosa','Susana','Yolanda'}\n",
    "empresariales = {'Ana','Luis','Santiago','Juan'}\n",
    "ingles_fluido = {'Amanda','Ana','Santiago','Yolanda','Nuria','Juan'}\n",
    "\n",
    "directores_con_ingles_fluido = directores & ingles_fluido\n",
    "print(directores_con_ingles_fluido)\n",
    "print(ingenieros & empresariales)\n",
    "print(gerentes & ingenieros)\n",
    "if len(directores & ingenieros & ingles_fluido) == 0: # conjunto vacío\n",
    "    print('no hay directores top')"
   ]
  },
  {
   "cell_type": "code",
   "execution_count": 3,
   "metadata": {},
   "outputs": [
    {
     "name": "stdout",
     "output_type": "stream",
     "text": [
      "despedido\n",
      "{'Luis', 'Zoe', 'Beatriz', 'Pedro', 'Susana'}\n",
      "{'Santiago', 'Rosa', 'Jorge', 'Nuria'}\n"
     ]
    }
   ],
   "source": [
    "if 'Luis' in directores  and not 'Luis' in ingenieros \\\n",
    "   and not 'Luis' in ingles_fluido:\n",
    "    print('despedido')\n",
    "    \n",
    "curso_ingles = (directores - ingles_fluido) | (gerentes - ingles_fluido)\n",
    "print(curso_ingles)\n",
    "\n",
    "promocion_empleados = empleados & (ingenieros | empresariales)\n",
    "print(promocion_empleados) # Santiago es ingeniero y empresariales"
   ]
  },
  {
   "cell_type": "code",
   "execution_count": 4,
   "metadata": {},
   "outputs": [
    {
     "name": "stdout",
     "output_type": "stream",
     "text": [
      "False\n",
      "{'Zoe', 'Beatriz', 'Pedro'}\n",
      "\n",
      "{'Santiago'}\n",
      "{'Santiago', 'Yolanda', 'Nuria'}\n",
      "{'Santiago', 'Ana', 'Juan'}\n"
     ]
    }
   ],
   "source": [
    "# Zoe, Pedro y Beatriz son gerentes, pero no ingenieros, \n",
    "# ni empresariales, ni ingles\n",
    "print(gerentes < (ingenieros | empresariales | ingles_fluido))\n",
    "print(gerentes-(ingenieros | empresariales | ingles_fluido))\n",
    "print()\n",
    "\n",
    "cualificados_nivel1 = ingenieros & empresariales & ingles_fluido\n",
    "print(cualificados_nivel1)\n",
    "cualificados_nivel2 = ingenieros & ingles_fluido\n",
    "print(cualificados_nivel2)\n",
    "cualificados_nivel3 = empresariales & ingles_fluido\n",
    "print(cualificados_nivel3)"
   ]
  },
  {
   "cell_type": "code",
   "execution_count": 5,
   "metadata": {},
   "outputs": [
    {
     "name": "stdout",
     "output_type": "stream",
     "text": [
      "set()\n",
      "{'Yolanda'}\n",
      "{'Ana', 'Juan'}\n",
      "Juan Santiago Ana Yolanda Nuria \n",
      "{'may', 'feb', 'sep', 'jul', 'ago', 'jun', 'nov', 'mar', 'ene', 'abr', 'oct', 'dic'}\n",
      "{'ballena', 'león', 'gorrión'}\n"
     ]
    }
   ],
   "source": [
    "print((directores | gerentes) & cualificados_nivel1)\n",
    "print((directores | gerentes) & cualificados_nivel2)\n",
    "print((directores | gerentes) & cualificados_nivel3)\n",
    "\n",
    "for e in cualificados_nivel1 | cualificados_nivel2 | cualificados_nivel3:\n",
    "    print(e, end=' ')\n",
    "print()\n",
    "    \n",
    "meses = ('ene','feb','mar','abr','may','jun','jul','ago', \\\n",
    "         'sep','oct','nov','dic')\n",
    "set_meses = set(meses)\n",
    "print(set_meses)\n",
    "animales = set(['león','ballena','gorrión'])\n",
    "print(animales)\n"
   ]
  },
  {
   "cell_type": "code",
   "execution_count": 13,
   "metadata": {},
   "outputs": [
    {
     "name": "stdout",
     "output_type": "stream",
     "text": [
      " torre  caballo  alfil   vacío   vacío   vacío   vacío   vacío  \n",
      " vacío   vacío   vacío   vacío   vacío   vacío   vacío   vacío  \n",
      " vacío   vacío   vacío   vacío   vacío   vacío   vacío   vacío  \n",
      " vacío   vacío   vacío   vacío   vacío   vacío   vacío   vacío  \n",
      " vacío   vacío   vacío   vacío   vacío   vacío   vacío   vacío  \n",
      " vacío   vacío   vacío   vacío   vacío   vacío   vacío   vacío  \n",
      " vacío   vacío   vacío   vacío   vacío   vacío   vacío   vacío  \n",
      " vacío   vacío   vacío   vacío   vacío   vacío   vacío   vacío  \n",
      "\n",
      " torre  caballo  alfil   vacío   vacío   vacío   vacío   vacío  \n",
      " vacío   vacío   vacío   vacío   vacío   vacío   vacío   vacío  \n",
      " vacío   vacío   vacío   vacío   vacío   vacío   vacío   vacío  \n",
      " vacío   vacío   vacío   vacío   vacío   vacío   vacío   vacío  \n",
      " vacío   vacío   vacío   vacío   vacío   vacío   vacío   vacío  \n",
      " vacío   vacío   vacío   vacío   vacío   vacío   vacío   vacío  \n",
      " vacío   vacío   vacío   vacío   vacío   vacío   vacío   vacío  \n",
      " vacío   vacío   vacío   vacío   vacío   vacío   vacío   vacío  \n",
      "\n",
      " torre  caballo  alfil   vacío   vacío   vacío   vacío   vacío  \n",
      " vacío   vacío   vacío   vacío   vacío   vacío   vacío   vacío  \n",
      " vacío   vacío   vacío   vacío   vacío   vacío   vacío   vacío  \n",
      " vacío   vacío   vacío   vacío   vacío   vacío   vacío   vacío  \n",
      " vacío   vacío   vacío   vacío   vacío   vacío   vacío   vacío  \n",
      " vacío   vacío   vacío   vacío   vacío   vacío   vacío   vacío  \n",
      " vacío   vacío   vacío   vacío   vacío   vacío   vacío   vacío  \n",
      " vacío   vacío   vacío   vacío   vacío   vacío   vacío   vacío  \n",
      "\n"
     ]
    }
   ],
   "source": [
    "tablero = []\n",
    "for i in range(3):\n",
    "    tablero.append(Tablero(8))\n",
    "    \n",
    "simultanea = set(tablero)\n",
    "for e in simultanea:\n",
    "    print(e)"
   ]
  },
  {
   "cell_type": "markdown",
   "metadata": {},
   "source": [
    "### 1) Crear una clase Alumno que contengael ID y el nombre de un alumno (como Strings). 2) Crear una clase Asignatura que contengael ID de la asignatura (como String) y una lista de instancias Alumno. 3) Crear 6 instancias de Alumno y 2 instancias de Asignatura que contengan al menos 3 alumnos comunes. 4) Imprimir resultados."
   ]
  },
  {
   "cell_type": "code",
   "execution_count": 16,
   "metadata": {},
   "outputs": [],
   "source": [
    "class Alumno:\n",
    "    __id = None\n",
    "    __nombre = None\n",
    "    \n",
    "    def __init__(self, id, nombre):\n",
    "        self.__id = id\n",
    "        self.__nombre = nombre\n",
    "        \n",
    "    def get_id(self):\n",
    "        return self.__id\n",
    "    \n",
    "    def get_nombre(self):\n",
    "        return self.__nombre\n",
    "    \n",
    "    def __eq__(self, alumno):\n",
    "        return self.get_id() == alumno.get_id()\n",
    "    \n",
    "    def __str__(self):\n",
    "        return str(self.__id) + ', ' + str(self.__nombre)\n",
    "    \n",
    "     \n",
    "    \n",
    "class Asignatura:\n",
    "    __id = None\n",
    "    __alumnos = None\n",
    "    \n",
    "    def __init__(self, id):\n",
    "        self.__id = id\n",
    "        self.__alumnos = list()\n",
    "        \n",
    "    def get_id(self):\n",
    "        return self.__id\n",
    "    \n",
    "    def get_alumnos(self):\n",
    "        return self.__alumnos\n",
    "    \n",
    "    def add(self, alumno):\n",
    "        self.__alumnos.append(alumno)\n",
    "        \n",
    "    def remove(self, alumno):\n",
    "        self.__alumnos.remove(alumno)\n",
    "        \n",
    "    def __str__(self):\n",
    "        aux = self.__id +\": \"\n",
    "        for e in self.__alumnos:\n",
    "            aux += str(e) + ', '\n",
    "        return aux\n",
    "    "
   ]
  },
  {
   "cell_type": "code",
   "execution_count": 17,
   "metadata": {},
   "outputs": [
    {
     "name": "stdout",
     "output_type": "stream",
     "text": [
      "a1, Jose\n",
      "FP: a1, Jose, a2, Ana, a3, Ruth, a6, Jesús, \n"
     ]
    }
   ],
   "source": [
    "fp = Asignatura('FP')\n",
    "lo = Asignatura('LO')\n",
    "\n",
    "a1 = Alumno('a1', 'Jose')\n",
    "a2 = Alumno('a2', 'Ana')\n",
    "a3 = Alumno('a3', 'Ruth')\n",
    "a4 = Alumno('a4', 'Mar')\n",
    "a5 = Alumno('a5', 'Zoe')\n",
    "a6 = Alumno('a6', 'Jesús')\n",
    "print(a1)\n",
    "\n",
    "lo.add(a3);lo.add(a4);lo.add(a5);lo.add(a6);\n",
    "fp.add(a1);fp.add(a2);fp.add(a3);fp.add(a6);\n",
    "print(fp)"
   ]
  },
  {
   "cell_type": "markdown",
   "metadata": {},
   "source": [
    "### Comprobar que podemos crear una lista de instancias, pero no un set de instancias"
   ]
  },
  {
   "cell_type": "code",
   "execution_count": 18,
   "metadata": {},
   "outputs": [
    {
     "ename": "SyntaxError",
     "evalue": "invalid syntax (<ipython-input-18-e6c32f31396d>, line 2)",
     "output_type": "error",
     "traceback": [
      "\u001b[0;36m  File \u001b[0;32m\"<ipython-input-18-e6c32f31396d>\"\u001b[0;36m, line \u001b[0;32m2\u001b[0m\n\u001b[0;31m    fisica_set = {a1,a2}  @ no hashable\u001b[0m\n\u001b[0m                                      ^\u001b[0m\n\u001b[0;31mSyntaxError\u001b[0m\u001b[0;31m:\u001b[0m invalid syntax\n"
     ]
    }
   ],
   "source": [
    "fisica_list = {a1,a2}\n",
    "fisica_set = {a1,a2}  @ no hashable"
   ]
  },
  {
   "cell_type": "markdown",
   "metadata": {},
   "source": [
    "### 1) Crear un set con los IDs (Strings) de los alumnos de la primera asignatura. Idem con la segunda asignatura. 2)  Imprimir ambos sets e imprimir todos los datos de los alumnos de cada asignatura (usando listas)."
   ]
  },
  {
   "cell_type": "code",
   "execution_count": 19,
   "metadata": {},
   "outputs": [
    {
     "name": "stdout",
     "output_type": "stream",
     "text": [
      "a3, Ruth\n",
      "a4, Mar\n",
      "a5, Zoe\n",
      "a6, Jesús\n",
      "{'a5', 'a3', 'a4', 'a6'}\n",
      "{'a6', 'a2', 'a3', 'a1'}\n"
     ]
    }
   ],
   "source": [
    "logica_list = lo.get_alumnos()\n",
    "programacion_list = fp.get_alumnos()\n",
    "logica_set = set([e.get_id() for e in logica_list])   # set de strings. un set de alumnos no es hashable\n",
    "programacion_set = set([e.get_id() for e in programacion_list])\n",
    "[print(e) for e in logica_list]\n",
    "print(logica_set); \n",
    "print(programacion_set)"
   ]
  },
  {
   "cell_type": "markdown",
   "metadata": {},
   "source": [
    "### 1) Crear un set con los IDs (Strings) de los alumnos comunes a ambas asignaturas. 2) Crear una lista de alumnos (Alumno). 3) Imprimir todos los datos de los alumnos comunes a las asignatura; nota: eval('alumno1') nos devuelve la instancia alumno1 (si existe previamente)."
   ]
  },
  {
   "cell_type": "code",
   "execution_count": 20,
   "metadata": {},
   "outputs": [
    {
     "name": "stdout",
     "output_type": "stream",
     "text": [
      "{'a5', 'a4'}\n",
      "['a6', 'a3']\n",
      "a6, Jesús\n",
      "a3, Ruth\n"
     ]
    }
   ],
   "source": [
    "comunes_set = logica_set & programacion_set\n",
    "print(logica_set - programacion_set)\n",
    "\n",
    "comunes_list = list(logica_set & programacion_set)\n",
    "print(comunes_list)\n",
    "\n",
    "alumnos_list = [a1,a2,a3,a4,a5,a6]\n",
    "\n",
    "for e_set in comunes_set:    # listado de alumnos comunes a ambas asignaturas\n",
    "    for e_list in comunes_list:\n",
    "        if e_set == e_list:\n",
    "            print(eval(e_set))"
   ]
  },
  {
   "cell_type": "markdown",
   "metadata": {},
   "source": [
    "## Diccionoarios (dict)"
   ]
  },
  {
   "cell_type": "code",
   "execution_count": 9,
   "metadata": {},
   "outputs": [
    {
     "name": "stdout",
     "output_type": "stream",
     "text": [
      "315784312\n",
      "315784312\n",
      "{'Ana': '670430755', 'Zoe': '315784312', 'Santiago': '360458976', 'Juan': '111111111', 'Jesús': '666998844'}\n",
      "Ana Zoe Santiago Juan Jesús \n",
      "360458976\n"
     ]
    }
   ],
   "source": [
    "contactos = {'Ana' : '670430755', 'Zoe' : '315784312',\n",
    "             'Santiago' : '360458976', 'Juan' : '455339077'}\n",
    "\n",
    "print(contactos['Zoe'])  # el acceso es muy rápido (no secuencial)\n",
    "print(contactos.get('Zoe'))  # acceso por método\n",
    "contactos['Juan'] = '111111111'   # Modifica un elemento existente\n",
    "contactos['Jesús'] = '666998844'  # añade un elemento\n",
    "print(contactos)\n",
    "\n",
    "for e in contactos:\n",
    "    print(e, end=' ')\n",
    "\n",
    "print()\n",
    "if 'Santiago' in contactos:\n",
    "    print(contactos['Santiago'])\n",
    "    \n",
    "#  print(contactos['Rubén'])  # da error, porque Rubén no es clave"
   ]
  },
  {
   "cell_type": "code",
   "execution_count": 10,
   "metadata": {},
   "outputs": [
    {
     "name": "stdout",
     "output_type": "stream",
     "text": [
      "dict_keys(['Ana', 'Zoe', 'Santiago', 'Juan', 'Jesús'])\n",
      "dict_values(['670430755', '315784312', '360458976', '111111111', '666998844'])\n",
      "dict_items([('Ana', '670430755'), ('Zoe', '315784312'), ('Santiago', '360458976'), ('Juan', '111111111'), ('Jesús', '666998844')])\n",
      "5\n",
      "4\n"
     ]
    }
   ],
   "source": [
    "set_keys = contactos.keys()\n",
    "set_values = contactos.values()\n",
    "set_items = contactos.items()\n",
    "print(set_keys)\n",
    "print(set_values)\n",
    "print(set_items)\n",
    "\n",
    "print(len(contactos))\n",
    "del contactos['Jesús']\n",
    "print(len(contactos))"
   ]
  },
  {
   "cell_type": "code",
   "execution_count": 13,
   "metadata": {},
   "outputs": [
    {
     "name": "stdout",
     "output_type": "stream",
     "text": [
      "{'ene': 31, 'feb': 28, 'mar': 31, 'abr': 30, 'may': 31, 'jun': 30, 'jul': 31, 'ago': 31, 'sep': 30, 'oct': 31, 'nov': 30, 'dic': 31}\n",
      "30\n",
      "ene mar may jul ago oct dic \n",
      "['ene', 'mar', 'may', 'jul', 'ago', 'oct', 'dic']\n",
      "7\n"
     ]
    }
   ],
   "source": [
    "dias_mes = (31,28,31,30,31,30,31,31,30,31,30,31)\n",
    "meses = ('ene','feb','mar','abr','may','jun','jul','ago', \\\n",
    "         'sep','oct','nov','dic')\n",
    "\n",
    "d_mes = dict(zip(meses,dias_mes))\n",
    "print(d_mes)\n",
    "print(d_mes['abr'])\n",
    "\n",
    "for k in d_mes.keys():\n",
    "    if d_mes[k]==31:\n",
    "        print(k, end=' ') # meses con 31 dias\n",
    "print()\n",
    "meses_31 = [k for k in d_mes.keys() if d_mes[k]==31]   # meses con 31 dias \n",
    "\n",
    "print(meses_31)\n",
    "print(len(meses_31)) # número de meses con 31 días\n"
   ]
  },
  {
   "cell_type": "code",
   "execution_count": 14,
   "metadata": {},
   "outputs": [
    {
     "name": "stdout",
     "output_type": "stream",
     "text": [
      "car radio   johnny boy   lane boy   \n",
      "daniel\n",
      "stay\n",
      "stay\n"
     ]
    }
   ],
   "source": [
    "elton_john = ['sacrifice','rocket man','daniel','levon']\n",
    "rihanna = ['diamonds','stay','hate that i love you']\n",
    "_21pilots = ['car radio','johnny boy','lane boy']\n",
    "\n",
    "playlist = dict([('elton_john', elton_john),\n",
    "                 ('rihanna', rihanna),\n",
    "                 ('21pilots', _21pilots)])\n",
    "#playlist = {'elton_john' : elton_john, 'rihanna' : rihanna,\n",
    "#            '21pilots' : _21pilots}\n",
    "\n",
    "for cancion in playlist['21pilots']:\n",
    "    print(cancion, end = '   ')\n",
    "\n",
    "print()\n",
    "print(playlist.get('elton_john')[2])\n",
    "\n",
    "canciones_rihanna = playlist['rihanna']\n",
    "print(canciones_rihanna[1])\n",
    "print(playlist['rihanna'][1])"
   ]
  },
  {
   "cell_type": "code",
   "execution_count": 24,
   "metadata": {},
   "outputs": [
    {
     "name": "stdout",
     "output_type": "stream",
     "text": [
      "['sacrifice', 'rocket man', 'daniel', 'levon']\n",
      "['diamonds', 'stay', 'hate that i love you']\n",
      "['car radio', 'johnny boy', 'lane boy']\n",
      "sacrifice, rocket man, daniel, levon, diamonds, stay, hate that i love you, car radio, johnny boy, lane boy, \n",
      "\n",
      "['car radio', 'daniel', 'diamonds', 'hate that i love you', 'johnny boy', 'lane boy', 'levon', 'rocket man', 'sacrifice', 'stay']\n",
      "['johnny boy', 'levon', 'hate that i love you', 'rocket man', 'daniel', 'diamonds', 'car radio', 'stay', 'sacrifice', 'lane boy']\n",
      "['car radio', 'lane boy', 'daniel', 'sacrifice', 'levon', 'hate that i love you', 'rocket man', 'stay', 'johnny boy', 'diamonds']\n"
     ]
    }
   ],
   "source": [
    "for grupo in playlist:\n",
    "    print(playlist[grupo])\n",
    "\n",
    "# recorrer todo el playlist\n",
    "for grupo in playlist:\n",
    "    for cancion in playlist[grupo]:\n",
    "        print(cancion, end=', ')\n",
    "print();print()\n",
    "\n",
    "todas = [cancion for grupo in playlist for cancion in playlist[grupo]]\n",
    "todas.sort()\n",
    "print(todas)\n",
    "\n",
    "import random\n",
    "random.shuffle(todas)\n",
    "print(todas)\n",
    "random.shuffle(todas)\n",
    "print(todas)"
   ]
  },
  {
   "cell_type": "markdown",
   "metadata": {},
   "source": [
    "### Comprobar que podemos crear un diccionario con instancias como valores"
   ]
  },
  {
   "cell_type": "code",
   "execution_count": 28,
   "metadata": {},
   "outputs": [
    {
     "name": "stdout",
     "output_type": "stream",
     "text": [
      "a2, Ana\n",
      "dict_keys(['a1', 'a2', 'a3', 'a4', 'a5', 'a6'])\n",
      "Mar\n",
      "['Ruth', 'Mar', 'Zoe']\n"
     ]
    }
   ],
   "source": [
    "# nos permite acceder muy eficientemente a la información de un objeto\n",
    "clase = {a1.get_id() : a1, a2.get_id() : a2, a3.get_id() : a3,\n",
    "         a4.get_id() : a4, a5.get_id() : a5, a6.get_id() : a6}\n",
    "\n",
    "print(clase[a2.get_id()])\n",
    "print(clase.keys())\n",
    "print(clase.get(a4.get_id()).get_nombre())\n",
    "\n",
    "l_z = [clase[alumno].get_nombre() for alumno in clase.keys() if clase[alumno].get_nombre()>='L']\n",
    "print(l_z)\n"
   ]
  },
  {
   "cell_type": "markdown",
   "metadata": {},
   "source": [
    "### Comprobar que no podemos crear un diccionario con instancias como claves"
   ]
  },
  {
   "cell_type": "code",
   "execution_count": 29,
   "metadata": {},
   "outputs": [
    {
     "ename": "TypeError",
     "evalue": "unhashable type: 'Alumno'",
     "output_type": "error",
     "traceback": [
      "\u001b[0;31m---------------------------------------------------------------------------\u001b[0m",
      "\u001b[0;31mTypeError\u001b[0m                                 Traceback (most recent call last)",
      "\u001b[0;32m<ipython-input-29-2395c37c8265>\u001b[0m in \u001b[0;36m<module>\u001b[0;34m\u001b[0m\n\u001b[0;32m----> 1\u001b[0;31m \u001b[0mclase\u001b[0m \u001b[0;34m=\u001b[0m \u001b[0;34m{\u001b[0m\u001b[0ma1\u001b[0m \u001b[0;34m:\u001b[0m \u001b[0;34m[\u001b[0m\u001b[0;36m3.7\u001b[0m\u001b[0;34m,\u001b[0m \u001b[0;36m5.6\u001b[0m\u001b[0;34m,\u001b[0m \u001b[0;36m1.9\u001b[0m\u001b[0;34m]\u001b[0m\u001b[0;34m,\u001b[0m \u001b[0ma2\u001b[0m \u001b[0;34m:\u001b[0m \u001b[0;34m[\u001b[0m\u001b[0;36m7.9\u001b[0m\u001b[0;34m,\u001b[0m \u001b[0;36m3.0\u001b[0m\u001b[0;34m,\u001b[0m \u001b[0;36m9.9\u001b[0m\u001b[0;34m]\u001b[0m\u001b[0;34m}\u001b[0m\u001b[0;34m\u001b[0m\u001b[0;34m\u001b[0m\u001b[0m\n\u001b[0m",
      "\u001b[0;31mTypeError\u001b[0m: unhashable type: 'Alumno'"
     ]
    }
   ],
   "source": [
    "clase = {a1 : [3.7, 5.6, 1.9], a2 : [7.9, 3.0, 9.9]} # Unhashable Alumno"
   ]
  },
  {
   "cell_type": "markdown",
   "metadata": {},
   "source": [
    "### 1) Crear un diccionario que contenga como claves los IDs de ambas asignaturas, y como valores la lista (list) de instancias (Alumno) de los alumnos de cada asignatura. 2)  Imprimir todos los datos de los alumnos de cada asignatura."
   ]
  },
  {
   "cell_type": "code",
   "execution_count": 42,
   "metadata": {},
   "outputs": [
    {
     "name": "stdout",
     "output_type": "stream",
     "text": [
      "a1, Jose a2, Ana a3, Ruth a6, Jesús \n",
      "a3, Ruth a4, Mar a5, Zoe a6, Jesús "
     ]
    }
   ],
   "source": [
    "clase = {fp.get_id() : fp.get_alumnos(), lo.get_id(): lo.get_alumnos()}\n",
    "\n",
    "foo = [print (e, end = ' ') for e in clase['FP']]; print()\n",
    "foo = [print (e, end = ' ') for e in clase['LO']]"
   ]
  },
  {
   "cell_type": "markdown",
   "metadata": {},
   "source": [
    "### 1) Crear una lista con los alumnos (Alumno) comunes a ambas asignaturas.  3) Imprimir todos los datos de los alumnos comunes."
   ]
  },
  {
   "cell_type": "code",
   "execution_count": 48,
   "metadata": {},
   "outputs": [
    {
     "name": "stdout",
     "output_type": "stream",
     "text": [
      "a3, Ruth a6, Jesús "
     ]
    }
   ],
   "source": [
    "comunes = []\n",
    "for e1 in clase['FP']:\n",
    "    for e2 in clase['LO']:\n",
    "        if e1 == e2: # llama al método __eq__ de la clase Alumno\n",
    "            comunes.append(e1)\n",
    "foo = [print(e, end = ' ') for e in comunes]        "
   ]
  }
 ],
 "metadata": {
  "kernelspec": {
   "display_name": "Python 3",
   "language": "python",
   "name": "python3"
  },
  "language_info": {
   "codemirror_mode": {
    "name": "ipython",
    "version": 3
   },
   "file_extension": ".py",
   "mimetype": "text/x-python",
   "name": "python",
   "nbconvert_exporter": "python",
   "pygments_lexer": "ipython3",
   "version": "3.7.1"
  }
 },
 "nbformat": 4,
 "nbformat_minor": 2
}
