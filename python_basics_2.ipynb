{
 "cells": [
  {
   "cell_type": "markdown",
   "metadata": {},
   "source": [
    "## Programación Orientada a Objetos \n",
    "## Clases"
   ]
  },
  {
   "cell_type": "code",
   "execution_count": 45,
   "metadata": {},
   "outputs": [
    {
     "name": "stdout",
     "output_type": "stream",
     "text": [
      "Pedro García\n",
      "32\n",
      "33\n"
     ]
    }
   ],
   "source": [
    "class Persona:\n",
    "    def __init__(self, nombre, telefono, edad):\n",
    "        self.nombre = nombre\n",
    "        self.telefono = telefono\n",
    "        self.edad = edad\n",
    "\n",
    "pedro = Persona('Pedro García' , '607234582', 25)\n",
    "ruth  = Persona('Ruth Iglesias', '456789034', 32)\n",
    "print(pedro.nombre)         # Esto no es orientado a objetos\n",
    "print(ruth.edad)\n",
    "\n",
    "ruth.edad = ruth.edad + 1   # acceso directo a las propiedades.\n",
    "                            # mejor evitarlo\n",
    "print(ruth.edad)"
   ]
  },
  {
   "cell_type": "markdown",
   "metadata": {},
   "source": [
    "#### Ejercicio: Implementar un constructor para una clase Semáforo"
   ]
  },
  {
   "cell_type": "code",
   "execution_count": 143,
   "metadata": {},
   "outputs": [
    {
     "name": "stdout",
     "output_type": "stream",
     "text": [
      "12332156\n",
      "12332156\n",
      "11111111\n",
      "36\n"
     ]
    }
   ],
   "source": [
    "class Persona:\n",
    "    \n",
    "    def __init__(self, nombre, telefono, edad):   # constructor; nombre -> parámetro\n",
    "        self.nombre = nombre           # self.nombre -> propiedad de la clase\n",
    "        self.telefono = telefono      \n",
    "        self.edad = edad\n",
    " \n",
    "    # getters\n",
    "    def get_nombre(self):\n",
    "        return self.nombre\n",
    "    \n",
    "    def get_telefono(self):\n",
    "        return self.telefono\n",
    "    \n",
    "    def get_edad(self):\n",
    "        return self.edad\n",
    " \n",
    "    # setters\n",
    "    def set_nombre(self, nombre):\n",
    "        self.nombre = nombre\n",
    "    \n",
    "    def set_telefono(self, telefono):\n",
    "        self.telefono = telefono\n",
    "\n",
    "    def set_edad(self, edad):\n",
    "        self.edad = edad\n",
    "\n",
    "luis = Persona('Luis Sarmientos', '12332156', 35)  # instanciación; luis -> instancia\n",
    "print(luis.telefono)         # poco orientado a objetos\n",
    "print(luis.get_telefono())   # orientado a objetos\n",
    "luis.set_telefono('11111111')\n",
    "print(luis.get_telefono())\n",
    "luis.set_edad(luis.get_edad() + 1) # cumpleaños\n",
    "print(luis.get_edad())"
   ]
  },
  {
   "cell_type": "markdown",
   "metadata": {},
   "source": [
    "#### Ejercicio: Implementar los métodos getter y setter para la clase Semaforo"
   ]
  },
  {
   "cell_type": "code",
   "execution_count": 72,
   "metadata": {},
   "outputs": [
    {
     "name": "stdout",
     "output_type": "stream",
     "text": [
      "José García es el hermano mayor\n"
     ]
    }
   ],
   "source": [
    "# cada instancia es un objeto\n",
    "jesus = Persona('Jesús García', '444555666', 40)  # instanciación\n",
    "jose = Persona('José García', '333888111', 45)    # instanciación\n",
    "adela = Persona('Adela Sancho', '999000222', 85)  # instanciación\n",
    "\n",
    "if jesus.get_edad() > jose.get_edad():\n",
    "    hermano_mayor = jesus\n",
    "else:\n",
    "    hermano_mayor = jose\n",
    "\n",
    "print(hermano_mayor.get_nombre() + ' es el hermano mayor')"
   ]
  },
  {
   "cell_type": "markdown",
   "metadata": {},
   "source": [
    "#### Ejercicio: Crear varias instancias de Semaforo y acceder a sus estados"
   ]
  },
  {
   "cell_type": "code",
   "execution_count": 84,
   "metadata": {},
   "outputs": [],
   "source": [
    "# clase Almacen\n",
    "\n",
    "class Almacen:\n",
    "    \n",
    "    # no es obligatorio realizar estas asignaciones, pero\n",
    "    # sirven para describir las propiuedades (atributos)\n",
    "    __capacidad = 0   # usamos __ para hacer local la propiedad\n",
    "    __elementos = 0   # usamos __ para hacer local la propiedad\n",
    "    \n",
    "    # constructor  \n",
    "    def __init__(self, elementos, capacidad):\n",
    "        self.__elementos = elementos  # usamos __ para hacer local la propiedad\n",
    "        self.__capacidad = capacidad\n",
    "    \n",
    "    # getters\n",
    "    def get_elementos(self):\n",
    "        return self.__elementos\n",
    "    \n",
    "    def get_capacidad(self):\n",
    "        return self.__capacidad\n",
    "    \n",
    "    # setters\n",
    "    def set_elementos(self, elementos):\n",
    "        self.__elementos = elementos\n",
    "    \n",
    "    def set_capacidad(self, capacidad):  # ¿tiene sentido poder cambiar\n",
    "        self.__capacidad = capacidad       #  la capacidad del Almacen?\n",
    "    \n",
    "    # métodos específicos\n",
    "    def lleno(self):\n",
    "        #return self.__elementos == self.__capacidad   # más eficiente\n",
    "        return self.get_elementos() == self.get_capacidad()  # más POO\n",
    "        \n",
    "    def vacio(self):\n",
    "        #return self.__elementos == 0   # más eficiente\n",
    "        return self.get_elementos() == 0 # más POO\n",
    "        \n",
    "    def add(self):  \n",
    "        assert not self.__elementos == self.__capacidad\n",
    "        self.__elementos += 1  # notación condensada i=i+1; i +=1\n",
    "            \n",
    "    def elimina(self):\n",
    "        assert not self.__elementos == 0\n",
    "        self.__elementos -= 1\n",
    "        \n",
    "    # métodos generales\n",
    "    def __str__(self):   # como toString()\n",
    "        return '('+str(self.__elementos)+', '+str(self.__capacidad)+')'\n"
   ]
  },
  {
   "cell_type": "markdown",
   "metadata": {},
   "source": [
    "#### Ejercicio: Implementar la clase completa Semaforo"
   ]
  },
  {
   "cell_type": "code",
   "execution_count": 85,
   "metadata": {},
   "outputs": [
    {
     "name": "stdout",
     "output_type": "stream",
     "text": [
      "True\n",
      "False\n",
      "5\n",
      "True\n",
      "(4, 5)\n",
      "False\n",
      "(5, 5)\n",
      "5\n"
     ]
    }
   ],
   "source": [
    "vehiculos = 0; capacidad = 5\n",
    "parking = Almacen(vehiculos, capacidad)\n",
    "\n",
    "print(parking.vacio())\n",
    "\n",
    "for i in range(5):\n",
    "    parking.add()\n",
    "\n",
    "print(parking.vacio())\n",
    "print(parking.get_elementos())\n",
    "print(parking.lleno())\n",
    "\n",
    "parking.elimina()\n",
    "print(parking)\n",
    "print(parking.lleno())\n",
    "\n",
    "for i in range(5):\n",
    "    if not parking.lleno():\n",
    "        parking.add()\n",
    "\n",
    "print(parking)\n",
    "\n",
    "parking.__capacidad = 50  # no actúa si la propiedad es privada: __capacidad                       \n",
    "print(parking.get_capacidad())"
   ]
  },
  {
   "cell_type": "markdown",
   "metadata": {},
   "source": [
    "#### Ejercicio: Crear varias instancias de Semaforo y hacer uso de ellas"
   ]
  },
  {
   "cell_type": "code",
   "execution_count": null,
   "metadata": {},
   "outputs": [],
   "source": []
  }
 ],
 "metadata": {
  "kernelspec": {
   "display_name": "Python 3",
   "language": "python",
   "name": "python3"
  },
  "language_info": {
   "codemirror_mode": {
    "name": "ipython",
    "version": 3
   },
   "file_extension": ".py",
   "mimetype": "text/x-python",
   "name": "python",
   "nbconvert_exporter": "python",
   "pygments_lexer": "ipython3",
   "version": "3.7.1"
  }
 },
 "nbformat": 4,
 "nbformat_minor": 2
}
